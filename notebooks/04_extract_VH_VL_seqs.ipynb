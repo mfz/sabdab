{
 "cells": [
  {
   "cell_type": "markdown",
   "id": "4a4e3676",
   "metadata": {},
   "source": [
    "## Extract VH and VL sequences \n",
    "\n",
    "In order to find redundant antibodies we need to cluster their VH and VL sequences separately."
   ]
  },
  {
   "cell_type": "markdown",
   "id": "cef9d052",
   "metadata": {},
   "source": [
    "Import required libraries. Good to do at start of notebook."
   ]
  },
  {
   "cell_type": "code",
   "execution_count": null,
   "id": "b907d67c",
   "metadata": {},
   "outputs": [],
   "source": [
    "import pandas as pd\n",
    "..."
   ]
  },
  {
   "cell_type": "markdown",
   "id": "f3303af4",
   "metadata": {},
   "source": [
    "Set global constants. Make sure the directories exist or create them."
   ]
  },
  {
   "cell_type": "code",
   "execution_count": null,
   "id": "04c44b13",
   "metadata": {},
   "outputs": [],
   "source": [
    "SUMMARY_FILE='...'    # path to cleaned ab_ag.tsv\n",
    "PBD_DIR='...'         # directory where PDB files were downloaded\n",
    "FASTA_DIR='...'       # directory where to store FASTA files"
   ]
  },
  {
   "cell_type": "markdown",
   "id": "599f0d95",
   "metadata": {},
   "source": [
    "Write a function `extract_aa_sequence(pdb_id, chain, limit)` that\n",
    "\n",
    "- creates the path to the PDB file for pdb_id\n",
    "- parses the file\n",
    "- retrieves all residues of the given chain (e.g. 'H')\n",
    "- filters on `het_flag == ' '` and `res_number <= limit`.\n",
    "- returns a list of one-letter protein codes\n",
    "\n",
    "(this was done in notebook 02). Make sure the function works on an example."
   ]
  },
  {
   "cell_type": "code",
   "execution_count": null,
   "id": "9a51b7f7",
   "metadata": {},
   "outputs": [],
   "source": [
    "def extract_aa_sequence(pdb_id, chain, limit):\n",
    "    ..."
   ]
  },
  {
   "cell_type": "markdown",
   "id": "f351b78a",
   "metadata": {},
   "source": [
    "Read in the pandas DataFrame from the SUMMARY_FILE"
   ]
  },
  {
   "cell_type": "code",
   "execution_count": null,
   "id": "ca5965f1",
   "metadata": {},
   "outputs": [],
   "source": [
    "summary = ..."
   ]
  },
  {
   "cell_type": "code",
   "execution_count": null,
   "id": "13bf658a",
   "metadata": {},
   "outputs": [],
   "source": [
    "# Define lists to store SeqRecord objects\n",
    "VH = []\n",
    "VL = []\n",
    "\n",
    "# loop over rows in DataFrame summary\n",
    "# - extract aa seq for Hchain \n",
    "# - create SeqRecord with id = pdb_id \n",
    "# - append SeqRecord to VH list\n",
    "\n",
    "# - same for Lchain\n",
    "\n",
    "\n",
    "# write VH and VL to FASTA_DIR/VH.fa and FASTA_DIR/VL.fa\n"
   ]
  }
 ],
 "metadata": {
  "kernelspec": {
   "display_name": "env",
   "language": "python",
   "name": "python3"
  },
  "language_info": {
   "name": "python",
   "version": "3.9.12"
  }
 },
 "nbformat": 4,
 "nbformat_minor": 5
}
