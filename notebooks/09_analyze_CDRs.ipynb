{
 "cells": [
  {
   "cell_type": "markdown",
   "id": "e7963500",
   "metadata": {},
   "source": [
    "## Analyze CDRs"
   ]
  },
  {
   "cell_type": "code",
   "execution_count": 2,
   "id": "604932c1",
   "metadata": {},
   "outputs": [],
   "source": [
    "import pandas as pd\n",
    "import numpy as np\n",
    "import matplotlib.pyplot as plt\n"
   ]
  },
  {
   "cell_type": "markdown",
   "id": "02dcc67e",
   "metadata": {},
   "source": [
    "We want to create a DataFrame with columns\n",
    "\n",
    "- chain_type: 'heavy' or 'light'\n",
    "- ab_resnum\n",
    "- ab_icode\n",
    "- total_counts: how often does this residue occur in data set\n",
    "- contact_counts: how often does this residue make contact to antigen in data set"
   ]
  },
  {
   "cell_type": "code",
   "execution_count": 3,
   "id": "ec3feebd",
   "metadata": {},
   "outputs": [],
   "source": [
    "acp = pd.read_csv(\"../generated/contacts/atomic_contacts.tsv\", sep=\"\\t\")\n",
    "res = pd.read_csv(\"../generated/contacts/residues.tsv\", sep=\"\\t\")"
   ]
  },
  {
   "cell_type": "code",
   "execution_count": 4,
   "id": "bc48e6fb",
   "metadata": {},
   "outputs": [
    {
     "data": {
      "text/html": [
       "<div>\n",
       "<style scoped>\n",
       "    .dataframe tbody tr th:only-of-type {\n",
       "        vertical-align: middle;\n",
       "    }\n",
       "\n",
       "    .dataframe tbody tr th {\n",
       "        vertical-align: top;\n",
       "    }\n",
       "\n",
       "    .dataframe thead th {\n",
       "        text-align: right;\n",
       "    }\n",
       "</style>\n",
       "<table border=\"1\" class=\"dataframe\">\n",
       "  <thead>\n",
       "    <tr style=\"text-align: right;\">\n",
       "      <th></th>\n",
       "      <th>pdb_id</th>\n",
       "      <th>chain_type</th>\n",
       "      <th>ab_chain</th>\n",
       "      <th>ag_chain</th>\n",
       "      <th>ab_resnum</th>\n",
       "      <th>ab_icode</th>\n",
       "      <th>ab_resname</th>\n",
       "      <th>ab_atom</th>\n",
       "      <th>ag_resnum</th>\n",
       "      <th>ag_icode</th>\n",
       "      <th>ag_resname</th>\n",
       "      <th>ag_atom</th>\n",
       "    </tr>\n",
       "  </thead>\n",
       "  <tbody>\n",
       "    <tr>\n",
       "      <th>0</th>\n",
       "      <td>3hi6</td>\n",
       "      <td>heavy</td>\n",
       "      <td>H</td>\n",
       "      <td>A</td>\n",
       "      <td>30.0</td>\n",
       "      <td></td>\n",
       "      <td>SER</td>\n",
       "      <td>O</td>\n",
       "      <td>269.0</td>\n",
       "      <td></td>\n",
       "      <td>GLU</td>\n",
       "      <td>C</td>\n",
       "    </tr>\n",
       "    <tr>\n",
       "      <th>1</th>\n",
       "      <td>3hi6</td>\n",
       "      <td>heavy</td>\n",
       "      <td>H</td>\n",
       "      <td>A</td>\n",
       "      <td>30.0</td>\n",
       "      <td></td>\n",
       "      <td>SER</td>\n",
       "      <td>O</td>\n",
       "      <td>269.0</td>\n",
       "      <td></td>\n",
       "      <td>GLU</td>\n",
       "      <td>O</td>\n",
       "    </tr>\n",
       "    <tr>\n",
       "      <th>2</th>\n",
       "      <td>3hi6</td>\n",
       "      <td>heavy</td>\n",
       "      <td>H</td>\n",
       "      <td>A</td>\n",
       "      <td>31.0</td>\n",
       "      <td></td>\n",
       "      <td>ARG</td>\n",
       "      <td>C</td>\n",
       "      <td>241.0</td>\n",
       "      <td></td>\n",
       "      <td>GLU</td>\n",
       "      <td>O</td>\n",
       "    </tr>\n",
       "    <tr>\n",
       "      <th>3</th>\n",
       "      <td>3hi6</td>\n",
       "      <td>heavy</td>\n",
       "      <td>H</td>\n",
       "      <td>A</td>\n",
       "      <td>31.0</td>\n",
       "      <td></td>\n",
       "      <td>ARG</td>\n",
       "      <td>C</td>\n",
       "      <td>241.0</td>\n",
       "      <td></td>\n",
       "      <td>GLU</td>\n",
       "      <td>O</td>\n",
       "    </tr>\n",
       "    <tr>\n",
       "      <th>4</th>\n",
       "      <td>3hi6</td>\n",
       "      <td>heavy</td>\n",
       "      <td>H</td>\n",
       "      <td>A</td>\n",
       "      <td>31.0</td>\n",
       "      <td></td>\n",
       "      <td>ARG</td>\n",
       "      <td>C</td>\n",
       "      <td>241.0</td>\n",
       "      <td></td>\n",
       "      <td>GLU</td>\n",
       "      <td>O</td>\n",
       "    </tr>\n",
       "  </tbody>\n",
       "</table>\n",
       "</div>"
      ],
      "text/plain": [
       "  pdb_id chain_type ab_chain ag_chain  ab_resnum ab_icode ab_resname ab_atom  \\\n",
       "0   3hi6      heavy        H        A       30.0                 SER       O   \n",
       "1   3hi6      heavy        H        A       30.0                 SER       O   \n",
       "2   3hi6      heavy        H        A       31.0                 ARG       C   \n",
       "3   3hi6      heavy        H        A       31.0                 ARG       C   \n",
       "4   3hi6      heavy        H        A       31.0                 ARG       C   \n",
       "\n",
       "   ag_resnum ag_icode ag_resname ag_atom  \n",
       "0      269.0                 GLU       C  \n",
       "1      269.0                 GLU       O  \n",
       "2      241.0                 GLU       O  \n",
       "3      241.0                 GLU       O  \n",
       "4      241.0                 GLU       O  "
      ]
     },
     "execution_count": 4,
     "metadata": {},
     "output_type": "execute_result"
    }
   ],
   "source": [
    "acp.head()"
   ]
  },
  {
   "cell_type": "code",
   "execution_count": 5,
   "id": "083f8313",
   "metadata": {},
   "outputs": [
    {
     "data": {
      "text/html": [
       "<div>\n",
       "<style scoped>\n",
       "    .dataframe tbody tr th:only-of-type {\n",
       "        vertical-align: middle;\n",
       "    }\n",
       "\n",
       "    .dataframe tbody tr th {\n",
       "        vertical-align: top;\n",
       "    }\n",
       "\n",
       "    .dataframe thead th {\n",
       "        text-align: right;\n",
       "    }\n",
       "</style>\n",
       "<table border=\"1\" class=\"dataframe\">\n",
       "  <thead>\n",
       "    <tr style=\"text-align: right;\">\n",
       "      <th></th>\n",
       "      <th>pdb_id</th>\n",
       "      <th>chain_type</th>\n",
       "      <th>ab_chain</th>\n",
       "      <th>ab_resnum</th>\n",
       "      <th>ab_icode</th>\n",
       "      <th>ab_resname</th>\n",
       "    </tr>\n",
       "  </thead>\n",
       "  <tbody>\n",
       "    <tr>\n",
       "      <th>0</th>\n",
       "      <td>3hi6</td>\n",
       "      <td>heavy</td>\n",
       "      <td>H</td>\n",
       "      <td>1</td>\n",
       "      <td></td>\n",
       "      <td>GLU</td>\n",
       "    </tr>\n",
       "    <tr>\n",
       "      <th>1</th>\n",
       "      <td>3hi6</td>\n",
       "      <td>heavy</td>\n",
       "      <td>H</td>\n",
       "      <td>2</td>\n",
       "      <td></td>\n",
       "      <td>VAL</td>\n",
       "    </tr>\n",
       "    <tr>\n",
       "      <th>2</th>\n",
       "      <td>3hi6</td>\n",
       "      <td>heavy</td>\n",
       "      <td>H</td>\n",
       "      <td>3</td>\n",
       "      <td></td>\n",
       "      <td>GLN</td>\n",
       "    </tr>\n",
       "    <tr>\n",
       "      <th>3</th>\n",
       "      <td>3hi6</td>\n",
       "      <td>heavy</td>\n",
       "      <td>H</td>\n",
       "      <td>4</td>\n",
       "      <td></td>\n",
       "      <td>LEU</td>\n",
       "    </tr>\n",
       "    <tr>\n",
       "      <th>4</th>\n",
       "      <td>3hi6</td>\n",
       "      <td>heavy</td>\n",
       "      <td>H</td>\n",
       "      <td>5</td>\n",
       "      <td></td>\n",
       "      <td>LEU</td>\n",
       "    </tr>\n",
       "  </tbody>\n",
       "</table>\n",
       "</div>"
      ],
      "text/plain": [
       "  pdb_id chain_type ab_chain  ab_resnum ab_icode ab_resname\n",
       "0   3hi6      heavy        H          1                 GLU\n",
       "1   3hi6      heavy        H          2                 VAL\n",
       "2   3hi6      heavy        H          3                 GLN\n",
       "3   3hi6      heavy        H          4                 LEU\n",
       "4   3hi6      heavy        H          5                 LEU"
      ]
     },
     "execution_count": 5,
     "metadata": {},
     "output_type": "execute_result"
    }
   ],
   "source": [
    "res.head()"
   ]
  },
  {
   "cell_type": "markdown",
   "id": "f4f9e640",
   "metadata": {},
   "source": [
    "We can compute the number of residue contacts using grouping of the `acp` DataFrame.\n",
    "\n",
    "We check per pdb_id and ab_resnum how many lines we have (here we count ag_resnum, but we could count any column). This is the number of atom contacts, as every line corresponds to an atom contact.\n",
    "\n",
    "We also check how many unique ag_resnums we have. That is the number of contacts between different ag_resnums.\n",
    "\n",
    "The grouping we have to use is (pdb_id, ab_resnum, ab_icode), \n",
    "The colums ab_chain, chain_type, and ab_resname are only for annotation purposes."
   ]
  },
  {
   "cell_type": "code",
   "execution_count": 32,
   "id": "f06e47d7",
   "metadata": {},
   "outputs": [
    {
     "data": {
      "text/html": [
       "<div>\n",
       "<style scoped>\n",
       "    .dataframe tbody tr th:only-of-type {\n",
       "        vertical-align: middle;\n",
       "    }\n",
       "\n",
       "    .dataframe tbody tr th {\n",
       "        vertical-align: top;\n",
       "    }\n",
       "\n",
       "    .dataframe thead th {\n",
       "        text-align: right;\n",
       "    }\n",
       "</style>\n",
       "<table border=\"1\" class=\"dataframe\">\n",
       "  <thead>\n",
       "    <tr style=\"text-align: right;\">\n",
       "      <th></th>\n",
       "      <th>pdb_id</th>\n",
       "      <th>ab_chain</th>\n",
       "      <th>chain_type</th>\n",
       "      <th>ab_resnum</th>\n",
       "      <th>ab_icode</th>\n",
       "      <th>ab_resname</th>\n",
       "      <th>natomcontacts</th>\n",
       "      <th>nrescontacts</th>\n",
       "      <th>contact</th>\n",
       "    </tr>\n",
       "  </thead>\n",
       "  <tbody>\n",
       "    <tr>\n",
       "      <th>0</th>\n",
       "      <td>1adq</td>\n",
       "      <td>H</td>\n",
       "      <td>heavy</td>\n",
       "      <td>1.0</td>\n",
       "      <td></td>\n",
       "      <td>GLU</td>\n",
       "      <td>10</td>\n",
       "      <td>3</td>\n",
       "      <td>1</td>\n",
       "    </tr>\n",
       "    <tr>\n",
       "      <th>1</th>\n",
       "      <td>1adq</td>\n",
       "      <td>H</td>\n",
       "      <td>heavy</td>\n",
       "      <td>31.0</td>\n",
       "      <td></td>\n",
       "      <td>ASP</td>\n",
       "      <td>17</td>\n",
       "      <td>3</td>\n",
       "      <td>1</td>\n",
       "    </tr>\n",
       "    <tr>\n",
       "      <th>2</th>\n",
       "      <td>1adq</td>\n",
       "      <td>H</td>\n",
       "      <td>heavy</td>\n",
       "      <td>52.0</td>\n",
       "      <td>A</td>\n",
       "      <td>TRP</td>\n",
       "      <td>11</td>\n",
       "      <td>2</td>\n",
       "      <td>1</td>\n",
       "    </tr>\n",
       "    <tr>\n",
       "      <th>3</th>\n",
       "      <td>1adq</td>\n",
       "      <td>H</td>\n",
       "      <td>heavy</td>\n",
       "      <td>96.0</td>\n",
       "      <td></td>\n",
       "      <td>ARG</td>\n",
       "      <td>5</td>\n",
       "      <td>2</td>\n",
       "      <td>1</td>\n",
       "    </tr>\n",
       "    <tr>\n",
       "      <th>4</th>\n",
       "      <td>1adq</td>\n",
       "      <td>H</td>\n",
       "      <td>heavy</td>\n",
       "      <td>97.0</td>\n",
       "      <td></td>\n",
       "      <td>SER</td>\n",
       "      <td>3</td>\n",
       "      <td>1</td>\n",
       "      <td>1</td>\n",
       "    </tr>\n",
       "  </tbody>\n",
       "</table>\n",
       "</div>"
      ],
      "text/plain": [
       "  pdb_id ab_chain chain_type  ab_resnum ab_icode ab_resname  natomcontacts  \\\n",
       "0   1adq        H      heavy        1.0                 GLU             10   \n",
       "1   1adq        H      heavy       31.0                 ASP             17   \n",
       "2   1adq        H      heavy       52.0        A        TRP             11   \n",
       "3   1adq        H      heavy       96.0                 ARG              5   \n",
       "4   1adq        H      heavy       97.0                 SER              3   \n",
       "\n",
       "   nrescontacts  contact  \n",
       "0             3        1  \n",
       "1             3        1  \n",
       "2             2        1  \n",
       "3             2        1  \n",
       "4             1        1  "
      ]
     },
     "execution_count": 32,
     "metadata": {},
     "output_type": "execute_result"
    }
   ],
   "source": [
    "rcp = acp.groupby(['pdb_id', 'ab_chain','chain_type', 'ab_resnum', 'ab_icode', 'ab_resname']).agg(natomcontacts = ('ag_resnum', 'size'),\n",
    "                                            nrescontacts = ('ag_resnum', 'nunique')).reset_index()\n",
    "\n",
    "rcp[\"contact\"] = 1   # always > 0, as we only have rows with atom contacts in acp\n",
    "\n",
    "rcp.head()"
   ]
  },
  {
   "cell_type": "markdown",
   "id": "6571475f",
   "metadata": {},
   "source": [
    "The data frame rcp now tells us if a (pdb_id, ab_resnum, ab_icode) has a contact to any antigen residue.\n",
    "\n",
    "Now we want to look at how frequent  a given heavy chain (or light chain) residue has contact to a antigen residue.\n",
    "\n",
    "So we need to get the total number of antibody residues (which could have a contact). We get this from the res data frame.\n"
   ]
  },
  {
   "cell_type": "code",
   "execution_count": 33,
   "id": "d987eddb",
   "metadata": {},
   "outputs": [
    {
     "data": {
      "text/html": [
       "<div>\n",
       "<style scoped>\n",
       "    .dataframe tbody tr th:only-of-type {\n",
       "        vertical-align: middle;\n",
       "    }\n",
       "\n",
       "    .dataframe tbody tr th {\n",
       "        vertical-align: top;\n",
       "    }\n",
       "\n",
       "    .dataframe thead th {\n",
       "        text-align: right;\n",
       "    }\n",
       "</style>\n",
       "<table border=\"1\" class=\"dataframe\">\n",
       "  <thead>\n",
       "    <tr style=\"text-align: right;\">\n",
       "      <th></th>\n",
       "      <th>pdb_id</th>\n",
       "      <th>chain_type</th>\n",
       "      <th>ab_chain</th>\n",
       "      <th>ab_resnum</th>\n",
       "      <th>ab_icode</th>\n",
       "      <th>ab_resname</th>\n",
       "      <th>natomcontacts</th>\n",
       "      <th>nrescontacts</th>\n",
       "      <th>contact</th>\n",
       "      <th>ab_res</th>\n",
       "    </tr>\n",
       "  </thead>\n",
       "  <tbody>\n",
       "    <tr>\n",
       "      <th>0</th>\n",
       "      <td>3hi6</td>\n",
       "      <td>heavy</td>\n",
       "      <td>H</td>\n",
       "      <td>1</td>\n",
       "      <td></td>\n",
       "      <td>GLU</td>\n",
       "      <td>0.0</td>\n",
       "      <td>0.0</td>\n",
       "      <td>0.0</td>\n",
       "      <td>1</td>\n",
       "    </tr>\n",
       "    <tr>\n",
       "      <th>1</th>\n",
       "      <td>3hi6</td>\n",
       "      <td>heavy</td>\n",
       "      <td>H</td>\n",
       "      <td>2</td>\n",
       "      <td></td>\n",
       "      <td>VAL</td>\n",
       "      <td>0.0</td>\n",
       "      <td>0.0</td>\n",
       "      <td>0.0</td>\n",
       "      <td>2</td>\n",
       "    </tr>\n",
       "    <tr>\n",
       "      <th>2</th>\n",
       "      <td>3hi6</td>\n",
       "      <td>heavy</td>\n",
       "      <td>H</td>\n",
       "      <td>3</td>\n",
       "      <td></td>\n",
       "      <td>GLN</td>\n",
       "      <td>0.0</td>\n",
       "      <td>0.0</td>\n",
       "      <td>0.0</td>\n",
       "      <td>3</td>\n",
       "    </tr>\n",
       "    <tr>\n",
       "      <th>3</th>\n",
       "      <td>3hi6</td>\n",
       "      <td>heavy</td>\n",
       "      <td>H</td>\n",
       "      <td>4</td>\n",
       "      <td></td>\n",
       "      <td>LEU</td>\n",
       "      <td>0.0</td>\n",
       "      <td>0.0</td>\n",
       "      <td>0.0</td>\n",
       "      <td>4</td>\n",
       "    </tr>\n",
       "    <tr>\n",
       "      <th>4</th>\n",
       "      <td>3hi6</td>\n",
       "      <td>heavy</td>\n",
       "      <td>H</td>\n",
       "      <td>5</td>\n",
       "      <td></td>\n",
       "      <td>LEU</td>\n",
       "      <td>0.0</td>\n",
       "      <td>0.0</td>\n",
       "      <td>0.0</td>\n",
       "      <td>5</td>\n",
       "    </tr>\n",
       "  </tbody>\n",
       "</table>\n",
       "</div>"
      ],
      "text/plain": [
       "  pdb_id chain_type ab_chain  ab_resnum ab_icode ab_resname  natomcontacts  \\\n",
       "0   3hi6      heavy        H          1                 GLU            0.0   \n",
       "1   3hi6      heavy        H          2                 VAL            0.0   \n",
       "2   3hi6      heavy        H          3                 GLN            0.0   \n",
       "3   3hi6      heavy        H          4                 LEU            0.0   \n",
       "4   3hi6      heavy        H          5                 LEU            0.0   \n",
       "\n",
       "   nrescontacts  contact ab_res  \n",
       "0           0.0      0.0     1   \n",
       "1           0.0      0.0     2   \n",
       "2           0.0      0.0     3   \n",
       "3           0.0      0.0     4   \n",
       "4           0.0      0.0     5   "
      ]
     },
     "execution_count": 33,
     "metadata": {},
     "output_type": "execute_result"
    }
   ],
   "source": [
    "m = res.merge(rcp, how = \"left\", \n",
    "          on = [\"pdb_id\", \"chain_type\", \"ab_chain\", \"ab_resnum\", \"ab_icode\", \"ab_resname\"]\n",
    "          ).fillna(0)\n",
    "\n",
    "m = m.assign(ab_res = m[\"ab_resnum\"].astype(str) + m[\"ab_icode\"])\n",
    "\n",
    "m.head()"
   ]
  },
  {
   "cell_type": "code",
   "execution_count": 34,
   "id": "1bcf8b15",
   "metadata": {},
   "outputs": [],
   "source": [
    "m.to_csv(\"../generated/contacts/residue_contacts_all.tsv\", sep = \"\\t\", index = False)"
   ]
  },
  {
   "cell_type": "markdown",
   "id": "af0beed0",
   "metadata": {},
   "source": [
    "Now we can create a data frame where for every\n",
    "- chain_type\n",
    "- resnum\n",
    "- icode\n",
    "\n",
    "we compute \n",
    "- the total number of occurrences\n",
    "- the total number of contacts"
   ]
  },
  {
   "cell_type": "code",
   "execution_count": 23,
   "id": "b136ca88",
   "metadata": {},
   "outputs": [
    {
     "data": {
      "text/html": [
       "<div>\n",
       "<style scoped>\n",
       "    .dataframe tbody tr th:only-of-type {\n",
       "        vertical-align: middle;\n",
       "    }\n",
       "\n",
       "    .dataframe tbody tr th {\n",
       "        vertical-align: top;\n",
       "    }\n",
       "\n",
       "    .dataframe thead th {\n",
       "        text-align: right;\n",
       "    }\n",
       "</style>\n",
       "<table border=\"1\" class=\"dataframe\">\n",
       "  <thead>\n",
       "    <tr style=\"text-align: right;\">\n",
       "      <th></th>\n",
       "      <th>chain_type</th>\n",
       "      <th>ab_resnum</th>\n",
       "      <th>ab_icode</th>\n",
       "      <th>nresidues</th>\n",
       "      <th>ncontacts</th>\n",
       "      <th>ab_res</th>\n",
       "    </tr>\n",
       "  </thead>\n",
       "  <tbody>\n",
       "    <tr>\n",
       "      <th>0</th>\n",
       "      <td>heavy</td>\n",
       "      <td>1</td>\n",
       "      <td></td>\n",
       "      <td>1033</td>\n",
       "      <td>69</td>\n",
       "      <td>1</td>\n",
       "    </tr>\n",
       "    <tr>\n",
       "      <th>1</th>\n",
       "      <td>heavy</td>\n",
       "      <td>2</td>\n",
       "      <td></td>\n",
       "      <td>1312</td>\n",
       "      <td>108</td>\n",
       "      <td>2</td>\n",
       "    </tr>\n",
       "    <tr>\n",
       "      <th>2</th>\n",
       "      <td>heavy</td>\n",
       "      <td>3</td>\n",
       "      <td></td>\n",
       "      <td>1357</td>\n",
       "      <td>6</td>\n",
       "      <td>3</td>\n",
       "    </tr>\n",
       "    <tr>\n",
       "      <th>3</th>\n",
       "      <td>heavy</td>\n",
       "      <td>4</td>\n",
       "      <td></td>\n",
       "      <td>1366</td>\n",
       "      <td>1</td>\n",
       "      <td>4</td>\n",
       "    </tr>\n",
       "    <tr>\n",
       "      <th>4</th>\n",
       "      <td>heavy</td>\n",
       "      <td>5</td>\n",
       "      <td></td>\n",
       "      <td>1367</td>\n",
       "      <td>3</td>\n",
       "      <td>5</td>\n",
       "    </tr>\n",
       "  </tbody>\n",
       "</table>\n",
       "</div>"
      ],
      "text/plain": [
       "  chain_type  ab_resnum ab_icode  nresidues ncontacts ab_res\n",
       "0      heavy          1                1033        69     1 \n",
       "1      heavy          2                1312       108     2 \n",
       "2      heavy          3                1357         6     3 \n",
       "3      heavy          4                1366         1     4 \n",
       "4      heavy          5                1367         3     5 "
      ]
     },
     "execution_count": 23,
     "metadata": {},
     "output_type": "execute_result"
    }
   ],
   "source": [
    "stats = m.groupby([\"chain_type\", \"ab_resnum\", \"ab_icode\"]).agg(nresidues = (\"ab_resname\", \"size\"),\n",
    "                                                               ncontacts = (\"contact\", \"sum\"),\n",
    "                                                               ).reset_index()\n",
    "stats = stats.assign(ab_res = stats[\"ab_resnum\"].astype(str) + stats[\"ab_icode\"])\n",
    "\n",
    "stats.head()\n",
    "    "
   ]
  },
  {
   "cell_type": "code",
   "execution_count": 31,
   "id": "96eab3c4",
   "metadata": {},
   "outputs": [
    {
     "data": {
      "text/html": [
       "<div>\n",
       "<style scoped>\n",
       "    .dataframe tbody tr th:only-of-type {\n",
       "        vertical-align: middle;\n",
       "    }\n",
       "\n",
       "    .dataframe tbody tr th {\n",
       "        vertical-align: top;\n",
       "    }\n",
       "\n",
       "    .dataframe thead th {\n",
       "        text-align: right;\n",
       "    }\n",
       "</style>\n",
       "<table border=\"1\" class=\"dataframe\">\n",
       "  <thead>\n",
       "    <tr style=\"text-align: right;\">\n",
       "      <th></th>\n",
       "      <th>chain_type</th>\n",
       "      <th>ab_resnum</th>\n",
       "      <th>ab_icode</th>\n",
       "      <th>ab_res</th>\n",
       "      <th>stat</th>\n",
       "      <th>count</th>\n",
       "    </tr>\n",
       "  </thead>\n",
       "  <tbody>\n",
       "    <tr>\n",
       "      <th>0</th>\n",
       "      <td>heavy</td>\n",
       "      <td>1</td>\n",
       "      <td></td>\n",
       "      <td>1</td>\n",
       "      <td>nresidues</td>\n",
       "      <td>1033</td>\n",
       "    </tr>\n",
       "    <tr>\n",
       "      <th>1</th>\n",
       "      <td>heavy</td>\n",
       "      <td>2</td>\n",
       "      <td></td>\n",
       "      <td>2</td>\n",
       "      <td>nresidues</td>\n",
       "      <td>1312</td>\n",
       "    </tr>\n",
       "    <tr>\n",
       "      <th>2</th>\n",
       "      <td>heavy</td>\n",
       "      <td>3</td>\n",
       "      <td></td>\n",
       "      <td>3</td>\n",
       "      <td>nresidues</td>\n",
       "      <td>1357</td>\n",
       "    </tr>\n",
       "    <tr>\n",
       "      <th>3</th>\n",
       "      <td>heavy</td>\n",
       "      <td>4</td>\n",
       "      <td></td>\n",
       "      <td>4</td>\n",
       "      <td>nresidues</td>\n",
       "      <td>1366</td>\n",
       "    </tr>\n",
       "    <tr>\n",
       "      <th>4</th>\n",
       "      <td>heavy</td>\n",
       "      <td>5</td>\n",
       "      <td></td>\n",
       "      <td>5</td>\n",
       "      <td>nresidues</td>\n",
       "      <td>1367</td>\n",
       "    </tr>\n",
       "  </tbody>\n",
       "</table>\n",
       "</div>"
      ],
      "text/plain": [
       "  chain_type  ab_resnum ab_icode ab_res       stat count\n",
       "0      heavy          1              1   nresidues  1033\n",
       "1      heavy          2              2   nresidues  1312\n",
       "2      heavy          3              3   nresidues  1357\n",
       "3      heavy          4              4   nresidues  1366\n",
       "4      heavy          5              5   nresidues  1367"
      ]
     },
     "execution_count": 31,
     "metadata": {},
     "output_type": "execute_result"
    }
   ],
   "source": [
    "sm = stats.melt(id_vars = [\"chain_type\", \"ab_resnum\", \"ab_icode\", \"ab_res\"], \n",
    "           var_name = \"stat\", value_name = \"count\")\n",
    "\n",
    "sm.head()"
   ]
  },
  {
   "cell_type": "markdown",
   "id": "999b932e",
   "metadata": {},
   "source": [
    "Now we can look at the CDR regions"
   ]
  },
  {
   "cell_type": "code",
   "execution_count": 9,
   "id": "97c26f5a",
   "metadata": {},
   "outputs": [],
   "source": [
    "import seaborn as sns"
   ]
  },
  {
   "cell_type": "code",
   "execution_count": 57,
   "id": "ef6a9451",
   "metadata": {},
   "outputs": [
    {
     "data": {
      "text/plain": [
       "<Axes: xlabel='ab_res', ylabel='count'>"
      ]
     },
     "execution_count": 57,
     "metadata": {},
     "output_type": "execute_result"
    },
    {
     "data": {
      "image/png": "[encoded data removed]",
      "text/plain": [
       "<Figure size 640x480 with 1 Axes>"
      ]
     },
     "metadata": {},
     "output_type": "display_data"
    }
   ],
   "source": [
    "sns.barplot(data = sm.query(\"chain_type == 'heavy'\"), \n",
    "            x = \"ab_res\", y = \"count\", hue = \"stat\")"
   ]
  },
  {
   "cell_type": "code",
   "execution_count": 58,
   "id": "797207be",
   "metadata": {},
   "outputs": [
    {
     "data": {
      "text/plain": [
       "<Axes: xlabel='ab_res', ylabel='count'>"
      ]
     },
     "execution_count": 58,
     "metadata": {},
     "output_type": "execute_result"
    },
    {
     "data": {
      "image/png": "[encoded data removed]",
      "text/plain": [
       "<Figure size 640x480 with 1 Axes>"
      ]
     },
     "metadata": {},
     "output_type": "display_data"
    }
   ],
   "source": [
    "sns.barplot(data = sm.query(\"chain_type == 'light'\"), \n",
    "            x = \"ab_res\", y = \"count\", hue = \"stat\")"
   ]
  },
  {
   "cell_type": "code",
   "execution_count": 54,
   "id": "e14007e9",
   "metadata": {},
   "outputs": [
    {
     "data": {
      "image/png": "[encoded data removed]",
      "text/plain": [
       "<Figure size 640x480 with 1 Axes>"
      ]
     },
     "metadata": {},
     "output_type": "display_data"
    }
   ],
   "source": [
    "(sns\n",
    " .barplot(data = sm.query(\"chain_type == 'heavy' and 20 < ab_resnum < 40\"), \n",
    "            x = \"ab_res\", y = \"count\", hue = \"stat\"))\n",
    "plt.title (\"H1\")\n",
    "plt.xticks(rotation=90)\n",
    "\n",
    "#plt.tight_layout()\n",
    "plt.show()\n"
   ]
  },
  {
   "cell_type": "code",
   "execution_count": 55,
   "id": "1f616d78",
   "metadata": {},
   "outputs": [
    {
     "data": {
      "image/png": "[encoded data removed]",
      "text/plain": [
       "<Figure size 640x480 with 1 Axes>"
      ]
     },
     "metadata": {},
     "output_type": "display_data"
    }
   ],
   "source": [
    "sns.barplot(data = sm.query(\"chain_type == 'heavy' and 40 < ab_resnum < 70\"), \n",
    "            x = \"ab_res\", y = \"count\", hue = \"stat\")\n",
    "plt.xticks(rotation=90)\n",
    "plt.title(\"H2\")\n",
    "#plt.tight_layout()\n",
    "plt.show()\n"
   ]
  },
  {
   "cell_type": "code",
   "execution_count": 56,
   "id": "b3d3c09b",
   "metadata": {},
   "outputs": [
    {
     "data": {
      "image/png": "[encoded data removed]",
      "text/plain": [
       "<Figure size 640x480 with 1 Axes>"
      ]
     },
     "metadata": {},
     "output_type": "display_data"
    }
   ],
   "source": [
    "sns.barplot(data = sm.query(\"chain_type == 'heavy' and 85 < ab_resnum < 110\"), \n",
    "            x = \"ab_res\", y = \"count\", hue = \"stat\")\n",
    "plt.xticks(rotation=90)\n",
    "plt.title(\"H3\")\n",
    "#plt.tight_layout()\n",
    "plt.show()\n"
   ]
  },
  {
   "cell_type": "code",
   "execution_count": null,
   "id": "d139f0d8",
   "metadata": {},
   "outputs": [],
   "source": []
  }
 ],
 "metadata": {
  "kernelspec": {
   "display_name": "env",
   "language": "python",
   "name": "python3"
  },
  "language_info": {
   "codemirror_mode": {
    "name": "ipython",
    "version": 3
   },
   "file_extension": ".py",
   "mimetype": "text/x-python",
   "name": "python",
   "nbconvert_exporter": "python",
   "pygments_lexer": "ipython3",
   "version": "3.9.12"
  }
 },
 "nbformat": 4,
 "nbformat_minor": 5
}
