{
 "cells": [
  {
   "cell_type": "markdown",
   "id": "26ef7af4",
   "metadata": {},
   "source": [
    "## Compute change in solvent accessible surface area (SASA) per residue\n",
    "\n",
    "We want to create a DataFrame `sasa` that contains changes in SASA per residue for all the antibodies in our cleaned summary file.\n",
    "\n",
    "The desired result is a DataFrame with columns\n",
    "\n",
    "- `pdb_id`, e.g. '9ds1'\n",
    "- `ab_chain`, e.g. 'H' \n",
    "- `ab_chaintype`, 'heavy' or 'light'\n",
    "- `ab_resnum`\n",
    "- `ab_icode`\n",
    "- `ab_resname`\n",
    "- `dSASA`\n",
    "- `dSASA_rel`\n",
    "- `dSASA_polar`\n",
    "- `dSASA_polar_rel`\n",
    "- `dSASA_apolar`\n",
    "- `dSASA_apolar_rel` \n",
    "\n",
    "This can be achieved using the function `compute_dSASA(pdb_id, light_chain, heavy_chain)` from notebook 10.\n",
    "Copy the function into a code cell below."
   ]
  },
  {
   "cell_type": "code",
   "execution_count": null,
   "id": "b272d91f",
   "metadata": {},
   "outputs": [],
   "source": [
    "# compute_dSASA (copied from notebook 10)"
   ]
  },
  {
   "cell_type": "markdown",
   "id": "d66c82db",
   "metadata": {},
   "source": [
    "Now we need to iterate over the rows of the cleaned summary file, append results to the `sasa` data frame, and save the file under `../generated/sasa/sasa.tsv` (create the directory if necessary).\n",
    "\n",
    "Like in notebook 8, we wrap the processing of each pdb file into a `try ... except` block, such that an error in a single file does not mess up the whole run. "
   ]
  },
  {
   "cell_type": "code",
   "execution_count": null,
   "id": "544cd0d6",
   "metadata": {},
   "outputs": [],
   "source": [
    "SUMMARY_FILE = \"...\"\n",
    "\n",
    "# read the summary file\n",
    "summary = ...\n",
    "\n",
    "# declare a DataFrame to store dSASA\n",
    "sasa = pd.DataFrame()\n",
    "\n",
    "for i, row in summary.iterrows():\n",
    "    try:\n",
    "        # compute SASA for pdb_id, light_chain, heavy_chain in row\n",
    "        df = ...\n",
    "\n",
    "        sasa = pd.concat([sasa, df], ignore_index=True)\n",
    "\n",
    "    except Exception as e:\n",
    "        print(f\"Error processing row {row}: {e}\")\n",
    "\n",
    "\n",
    "# save the sasa DataFrame to a tab-delimited file\n",
    "...\n",
    "\n"
   ]
  }
 ],
 "metadata": {
  "kernelspec": {
   "display_name": "env",
   "language": "python",
   "name": "python3"
  },
  "language_info": {
   "name": "python",
   "version": "3.9.12"
  }
 },
 "nbformat": 4,
 "nbformat_minor": 5
}
