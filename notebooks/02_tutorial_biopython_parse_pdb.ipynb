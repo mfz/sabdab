{
 "cells": [
  {
   "cell_type": "markdown",
   "id": "d842bdda",
   "metadata": {},
   "source": [
    "## Parsing PDB files using biopython\n",
    "\n",
    "Experiment how to use biopython to parse a pdb file"
   ]
  },
  {
   "cell_type": "markdown",
   "id": "786454d3",
   "metadata": {},
   "source": [
    "In biopython, each structure is defined as a hierarchy of entities\n",
    "\n",
    "- structure (each PDB file contains one structure)\n",
    "- model (for X-ray structures, there is only one model, '0', for NMR there might be more)\n",
    "- chain\n",
    "- residue\n",
    "- atom\n",
    "\n",
    "Each entity has an attribute `id` (can also be obtained using `entity.get_id()`).\n",
    "Python indexing [] can be used to access a certain child of an entity:\n",
    "\n",
    "- `structure[0]` to retrieve first model of structure\n",
    "- `model['A']` to retrieve chain 'A' of model\n",
    "- `structure[0]['A']` to retrieve chain 'A' of first model of structure\n",
    "\n",
    "There are also methods to navigate the hierarchy one level at a time:\n",
    "- `entity.get_list()` returns a list of children of an entity,\n",
    "- `entity.get_parent()` returns the parent of an entity\n",
    "\n",
    "There are also methods that allow direct access of lower levels from higher levels. These are\n",
    "\n",
    "- `entity.get_models()`\n",
    "- `entity.get_chains()`\n",
    "- `entity.get_residues()`\n",
    "- `entity.get_atoms()`\n",
    "\n",
    "These return an iterator, not a list. An iterator can be used directly in a for loop, or can be converted to a list using the `list(iter)` function. \n"
   ]
  },
  {
   "cell_type": "markdown",
   "id": "508dde47",
   "metadata": {},
   "source": [
    "### Parsing a PDB file"
   ]
  },
  {
   "cell_type": "markdown",
   "id": "2ae35bbe",
   "metadata": {},
   "source": [
    "Assuming we have run the notebook 'download_chothia_pdb.ipynb' which downloaded PDB files into the `PDB_DIR`, we can construct the path to the PDB file of structure '9ds1'"
   ]
  },
  {
   "cell_type": "code",
   "execution_count": 38,
   "id": "177b189e",
   "metadata": {},
   "outputs": [],
   "source": [
    "import os.path\n",
    "\n",
    "PDB_DIR = \"../data/pdbs\"\n",
    "pdb_id = \"9ds1\"\n",
    "filename = os.path.join(PDB_DIR, f\"{pdb_id}_chothia.pdb\")"
   ]
  },
  {
   "cell_type": "markdown",
   "id": "acecdb36",
   "metadata": {},
   "source": [
    "The PDB structure can then be read using biopython's `PDBParser`"
   ]
  },
  {
   "cell_type": "code",
   "execution_count": 39,
   "id": "462da18e",
   "metadata": {},
   "outputs": [],
   "source": [
    "from Bio.PDB.PDBParser import PDBParser\n",
    "parser = PDBParser(PERMISSIVE=1)\n",
    "structure = parser.get_structure(pdb_id, filename)"
   ]
  },
  {
   "cell_type": "markdown",
   "id": "92397b80",
   "metadata": {},
   "source": [
    "### Models\n",
    "\n",
    "For X-ray structures, there is only one model, while for NMR structures several are possible.\n",
    "\n",
    "We can get a list over all models using"
   ]
  },
  {
   "cell_type": "code",
   "execution_count": 40,
   "id": "381d47d9",
   "metadata": {},
   "outputs": [
    {
     "data": {
      "text/plain": [
       "[<Model id=0>]"
      ]
     },
     "execution_count": 40,
     "metadata": {},
     "output_type": "execute_result"
    }
   ],
   "source": [
    "models = structure.get_list() # or list(structure.get_models())\n",
    "models"
   ]
  },
  {
   "cell_type": "markdown",
   "id": "c72b0d6a",
   "metadata": {},
   "source": [
    "We can select the model with id 0 using"
   ]
  },
  {
   "cell_type": "code",
   "execution_count": 41,
   "id": "33cd8ef1",
   "metadata": {},
   "outputs": [
    {
     "data": {
      "text/plain": [
       "<Model id=0>"
      ]
     },
     "execution_count": 41,
     "metadata": {},
     "output_type": "execute_result"
    }
   ],
   "source": [
    "model0 = structure[0]\n",
    "model0"
   ]
  },
  {
   "cell_type": "code",
   "execution_count": 42,
   "id": "400ba6c7",
   "metadata": {},
   "outputs": [
    {
     "data": {
      "text/plain": [
       "0"
      ]
     },
     "execution_count": 42,
     "metadata": {},
     "output_type": "execute_result"
    }
   ],
   "source": [
    "model0.id"
   ]
  },
  {
   "cell_type": "markdown",
   "id": "74d69584",
   "metadata": {},
   "source": [
    "### Chains"
   ]
  },
  {
   "cell_type": "code",
   "execution_count": 43,
   "id": "05e566a0",
   "metadata": {},
   "outputs": [
    {
     "data": {
      "text/plain": [
       "[<Chain id=A>, <Chain id=B>, <Chain id=C>, <Chain id=H>, <Chain id=L>]"
      ]
     },
     "execution_count": 43,
     "metadata": {},
     "output_type": "execute_result"
    }
   ],
   "source": [
    "chains = model0.get_list() # or list(model.get_chains())\n",
    "chains"
   ]
  },
  {
   "cell_type": "markdown",
   "id": "76c1e2ad",
   "metadata": {},
   "source": [
    "In this case we are getting 5 chains. We can select chain H of the model using"
   ]
  },
  {
   "cell_type": "code",
   "execution_count": 44,
   "id": "2c60614e",
   "metadata": {},
   "outputs": [
    {
     "data": {
      "text/plain": [
       "<Chain id=H>"
      ]
     },
     "execution_count": 44,
     "metadata": {},
     "output_type": "execute_result"
    }
   ],
   "source": [
    "chainH = model0['H'] # or structure[0]['H']\n",
    "chainH"
   ]
  },
  {
   "cell_type": "code",
   "execution_count": 45,
   "id": "56ee650f",
   "metadata": {},
   "outputs": [
    {
     "data": {
      "text/plain": [
       "'H'"
      ]
     },
     "execution_count": 45,
     "metadata": {},
     "output_type": "execute_result"
    }
   ],
   "source": [
    "chainH.id"
   ]
  },
  {
   "cell_type": "markdown",
   "id": "caf8a2f6",
   "metadata": {},
   "source": [
    "### Residues"
   ]
  },
  {
   "cell_type": "code",
   "execution_count": 46,
   "id": "ecba679f",
   "metadata": {},
   "outputs": [
    {
     "data": {
      "text/plain": [
       "[<Residue GLU het=  resseq=1 icode= >,\n",
       " <Residue VAL het=  resseq=2 icode= >,\n",
       " <Residue GLN het=  resseq=3 icode= >,\n",
       " <Residue LEU het=  resseq=4 icode= >,\n",
       " <Residue LEU het=  resseq=5 icode= >,\n",
       " <Residue GLU het=  resseq=6 icode= >,\n",
       " <Residue SER het=  resseq=7 icode= >,\n",
       " <Residue GLY het=  resseq=8 icode= >,\n",
       " <Residue GLY het=  resseq=9 icode= >,\n",
       " <Residue GLY het=  resseq=10 icode= >,\n",
       " <Residue LEU het=  resseq=11 icode= >,\n",
       " <Residue VAL het=  resseq=12 icode= >,\n",
       " <Residue GLN het=  resseq=13 icode= >,\n",
       " <Residue PRO het=  resseq=14 icode= >,\n",
       " <Residue GLY het=  resseq=15 icode= >,\n",
       " <Residue GLY het=  resseq=16 icode= >,\n",
       " <Residue SER het=  resseq=17 icode= >,\n",
       " <Residue LEU het=  resseq=18 icode= >,\n",
       " <Residue ARG het=  resseq=19 icode= >,\n",
       " <Residue LEU het=  resseq=20 icode= >,\n",
       " <Residue SER het=  resseq=21 icode= >,\n",
       " <Residue CYS het=  resseq=22 icode= >,\n",
       " <Residue ALA het=  resseq=23 icode= >,\n",
       " <Residue VAL het=  resseq=24 icode= >,\n",
       " <Residue SER het=  resseq=25 icode= >,\n",
       " <Residue GLY het=  resseq=26 icode= >,\n",
       " <Residue PHE het=  resseq=27 icode= >,\n",
       " <Residue THR het=  resseq=28 icode= >,\n",
       " <Residue PHE het=  resseq=29 icode= >,\n",
       " <Residue SER het=  resseq=30 icode= >,\n",
       " <Residue LYS het=  resseq=31 icode= >,\n",
       " <Residue TYR het=  resseq=32 icode= >,\n",
       " <Residue ALA het=  resseq=33 icode= >,\n",
       " <Residue MET het=  resseq=34 icode= >,\n",
       " <Residue ASN het=  resseq=35 icode= >,\n",
       " <Residue TRP het=  resseq=36 icode= >,\n",
       " <Residue VAL het=  resseq=37 icode= >,\n",
       " <Residue ARG het=  resseq=38 icode= >,\n",
       " <Residue GLN het=  resseq=39 icode= >,\n",
       " <Residue ALA het=  resseq=40 icode= >,\n",
       " <Residue PRO het=  resseq=41 icode= >,\n",
       " <Residue GLY het=  resseq=42 icode= >,\n",
       " <Residue LYS het=  resseq=43 icode= >,\n",
       " <Residue GLY het=  resseq=44 icode= >,\n",
       " <Residue LEU het=  resseq=45 icode= >,\n",
       " <Residue GLU het=  resseq=46 icode= >,\n",
       " <Residue TRP het=  resseq=47 icode= >,\n",
       " <Residue VAL het=  resseq=48 icode= >,\n",
       " <Residue SER het=  resseq=49 icode= >,\n",
       " <Residue HIS het=  resseq=50 icode= >,\n",
       " <Residue ILE het=  resseq=51 icode= >,\n",
       " <Residue SER het=  resseq=52 icode= >,\n",
       " <Residue GLY het=  resseq=52 icode=A>,\n",
       " <Residue SER het=  resseq=53 icode= >,\n",
       " <Residue GLY het=  resseq=54 icode= >,\n",
       " <Residue ILE het=  resseq=55 icode= >,\n",
       " <Residue SER het=  resseq=56 icode= >,\n",
       " <Residue THR het=  resseq=57 icode= >,\n",
       " <Residue TYR het=  resseq=58 icode= >,\n",
       " <Residue TYR het=  resseq=59 icode= >,\n",
       " <Residue ALA het=  resseq=60 icode= >,\n",
       " <Residue ASP het=  resseq=61 icode= >,\n",
       " <Residue SER het=  resseq=62 icode= >,\n",
       " <Residue VAL het=  resseq=63 icode= >,\n",
       " <Residue LYS het=  resseq=64 icode= >,\n",
       " <Residue GLY het=  resseq=65 icode= >,\n",
       " <Residue ARG het=  resseq=66 icode= >,\n",
       " <Residue PHE het=  resseq=67 icode= >,\n",
       " <Residue THR het=  resseq=68 icode= >,\n",
       " <Residue ILE het=  resseq=69 icode= >,\n",
       " <Residue SER het=  resseq=70 icode= >,\n",
       " <Residue ARG het=  resseq=71 icode= >,\n",
       " <Residue ASP het=  resseq=72 icode= >,\n",
       " <Residue THR het=  resseq=73 icode= >,\n",
       " <Residue SER het=  resseq=74 icode= >,\n",
       " <Residue LYS het=  resseq=75 icode= >,\n",
       " <Residue ASN het=  resseq=76 icode= >,\n",
       " <Residue MET het=  resseq=77 icode= >,\n",
       " <Residue LEU het=  resseq=78 icode= >,\n",
       " <Residue TYR het=  resseq=79 icode= >,\n",
       " <Residue LEU het=  resseq=80 icode= >,\n",
       " <Residue GLN het=  resseq=81 icode= >,\n",
       " <Residue MET het=  resseq=82 icode= >,\n",
       " <Residue ASN het=  resseq=82 icode=A>,\n",
       " <Residue SER het=  resseq=82 icode=B>,\n",
       " <Residue LEU het=  resseq=82 icode=C>,\n",
       " <Residue ARG het=  resseq=83 icode= >,\n",
       " <Residue ALA het=  resseq=84 icode= >,\n",
       " <Residue GLU het=  resseq=85 icode= >,\n",
       " <Residue ASP het=  resseq=86 icode= >,\n",
       " <Residue THR het=  resseq=87 icode= >,\n",
       " <Residue ALA het=  resseq=88 icode= >,\n",
       " <Residue ILE het=  resseq=89 icode= >,\n",
       " <Residue TYR het=  resseq=90 icode= >,\n",
       " <Residue TYR het=  resseq=91 icode= >,\n",
       " <Residue CYS het=  resseq=92 icode= >,\n",
       " <Residue ALA het=  resseq=93 icode= >,\n",
       " <Residue LYS het=  resseq=94 icode= >,\n",
       " <Residue ASP het=  resseq=95 icode= >,\n",
       " <Residue ALA het=  resseq=96 icode= >,\n",
       " <Residue ILE het=  resseq=97 icode= >,\n",
       " <Residue SER het=  resseq=98 icode= >,\n",
       " <Residue GLY het=  resseq=99 icode= >,\n",
       " <Residue GLN het=  resseq=100 icode= >,\n",
       " <Residue ILE het=  resseq=100 icode=A>,\n",
       " <Residue TRP het=  resseq=100 icode=B>,\n",
       " <Residue LEU het=  resseq=100 icode=C>,\n",
       " <Residue GLN het=  resseq=100 icode=D>,\n",
       " <Residue GLY het=  resseq=100 icode=E>,\n",
       " <Residue THR het=  resseq=100 icode=F>,\n",
       " <Residue PHE het=  resseq=100 icode=G>,\n",
       " <Residue ASP het=  resseq=101 icode= >,\n",
       " <Residue TYR het=  resseq=102 icode= >,\n",
       " <Residue TRP het=  resseq=103 icode= >,\n",
       " <Residue GLY het=  resseq=104 icode= >,\n",
       " <Residue GLN het=  resseq=105 icode= >,\n",
       " <Residue GLY het=  resseq=106 icode= >,\n",
       " <Residue THR het=  resseq=107 icode= >,\n",
       " <Residue LEU het=  resseq=108 icode= >,\n",
       " <Residue VAL het=  resseq=109 icode= >,\n",
       " <Residue THR het=  resseq=110 icode= >,\n",
       " <Residue VAL het=  resseq=111 icode= >,\n",
       " <Residue PHE het=  resseq=112 icode= >,\n",
       " <Residue ASN het=  resseq=113 icode= >,\n",
       " <Residue GLN het=  resseq=114 icode= >,\n",
       " <Residue ILE het=  resseq=115 icode= >,\n",
       " <Residue LYS het=  resseq=116 icode= >,\n",
       " <Residue GLY het=  resseq=117 icode= >,\n",
       " <Residue PRO het=  resseq=118 icode= >,\n",
       " <Residue SER het=  resseq=119 icode= >,\n",
       " <Residue VAL het=  resseq=120 icode= >,\n",
       " <Residue PHE het=  resseq=121 icode= >,\n",
       " <Residue PRO het=  resseq=122 icode= >,\n",
       " <Residue LEU het=  resseq=123 icode= >,\n",
       " <Residue ALA het=  resseq=124 icode= >,\n",
       " <Residue PRO het=  resseq=125 icode= >,\n",
       " <Residue SER het=  resseq=126 icode= >,\n",
       " <Residue SER het=  resseq=127 icode= >,\n",
       " <Residue LYS het=  resseq=128 icode= >,\n",
       " <Residue SER het=  resseq=129 icode= >,\n",
       " <Residue THR het=  resseq=130 icode= >,\n",
       " <Residue SER het=  resseq=131 icode= >,\n",
       " <Residue GLY het=  resseq=132 icode= >,\n",
       " <Residue GLY het=  resseq=133 icode= >,\n",
       " <Residue THR het=  resseq=134 icode= >,\n",
       " <Residue ALA het=  resseq=135 icode= >,\n",
       " <Residue ALA het=  resseq=136 icode= >,\n",
       " <Residue LEU het=  resseq=137 icode= >,\n",
       " <Residue GLY het=  resseq=138 icode= >,\n",
       " <Residue CYS het=  resseq=139 icode= >,\n",
       " <Residue LEU het=  resseq=140 icode= >,\n",
       " <Residue VAL het=  resseq=141 icode= >,\n",
       " <Residue LYS het=  resseq=142 icode= >,\n",
       " <Residue ASP het=  resseq=143 icode= >,\n",
       " <Residue TYR het=  resseq=144 icode= >,\n",
       " <Residue PHE het=  resseq=145 icode= >,\n",
       " <Residue PRO het=  resseq=146 icode= >,\n",
       " <Residue GLU het=  resseq=147 icode= >,\n",
       " <Residue PRO het=  resseq=148 icode= >,\n",
       " <Residue VAL het=  resseq=149 icode= >,\n",
       " <Residue THR het=  resseq=150 icode= >,\n",
       " <Residue VAL het=  resseq=151 icode= >,\n",
       " <Residue SER het=  resseq=152 icode= >,\n",
       " <Residue TRP het=  resseq=153 icode= >,\n",
       " <Residue ASN het=  resseq=154 icode= >,\n",
       " <Residue SER het=  resseq=155 icode= >,\n",
       " <Residue GLY het=  resseq=156 icode= >,\n",
       " <Residue ALA het=  resseq=157 icode= >,\n",
       " <Residue LEU het=  resseq=158 icode= >,\n",
       " <Residue THR het=  resseq=159 icode= >,\n",
       " <Residue SER het=  resseq=160 icode= >,\n",
       " <Residue GLY het=  resseq=161 icode= >,\n",
       " <Residue VAL het=  resseq=162 icode= >,\n",
       " <Residue HIS het=  resseq=163 icode= >,\n",
       " <Residue THR het=  resseq=164 icode= >,\n",
       " <Residue PHE het=  resseq=165 icode= >,\n",
       " <Residue PRO het=  resseq=166 icode= >,\n",
       " <Residue ALA het=  resseq=167 icode= >,\n",
       " <Residue VAL het=  resseq=168 icode= >,\n",
       " <Residue LEU het=  resseq=169 icode= >,\n",
       " <Residue GLN het=  resseq=170 icode= >,\n",
       " <Residue SER het=  resseq=171 icode= >,\n",
       " <Residue SER het=  resseq=172 icode= >,\n",
       " <Residue GLY het=  resseq=173 icode= >,\n",
       " <Residue LEU het=  resseq=174 icode= >,\n",
       " <Residue TYR het=  resseq=175 icode= >,\n",
       " <Residue SER het=  resseq=176 icode= >,\n",
       " <Residue LEU het=  resseq=177 icode= >,\n",
       " <Residue SER het=  resseq=178 icode= >,\n",
       " <Residue SER het=  resseq=179 icode= >,\n",
       " <Residue VAL het=  resseq=180 icode= >,\n",
       " <Residue VAL het=  resseq=181 icode= >,\n",
       " <Residue THR het=  resseq=182 icode= >,\n",
       " <Residue VAL het=  resseq=183 icode= >,\n",
       " <Residue PRO het=  resseq=184 icode= >,\n",
       " <Residue SER het=  resseq=185 icode= >,\n",
       " <Residue SER het=  resseq=186 icode= >,\n",
       " <Residue SER het=  resseq=187 icode= >,\n",
       " <Residue LEU het=  resseq=188 icode= >,\n",
       " <Residue GLY het=  resseq=189 icode= >,\n",
       " <Residue THR het=  resseq=190 icode= >,\n",
       " <Residue GLN het=  resseq=191 icode= >,\n",
       " <Residue THR het=  resseq=192 icode= >,\n",
       " <Residue TYR het=  resseq=193 icode= >,\n",
       " <Residue ILE het=  resseq=194 icode= >,\n",
       " <Residue CYS het=  resseq=195 icode= >,\n",
       " <Residue ASN het=  resseq=196 icode= >,\n",
       " <Residue VAL het=  resseq=197 icode= >,\n",
       " <Residue ASN het=  resseq=198 icode= >,\n",
       " <Residue HIS het=  resseq=199 icode= >,\n",
       " <Residue LYS het=  resseq=200 icode= >,\n",
       " <Residue PRO het=  resseq=201 icode= >,\n",
       " <Residue SER het=  resseq=202 icode= >,\n",
       " <Residue ASN het=  resseq=203 icode= >,\n",
       " <Residue THR het=  resseq=204 icode= >,\n",
       " <Residue LYS het=  resseq=205 icode= >,\n",
       " <Residue VAL het=  resseq=206 icode= >,\n",
       " <Residue ASP het=  resseq=207 icode= >,\n",
       " <Residue LYS het=  resseq=208 icode= >,\n",
       " <Residue LYS het=  resseq=209 icode= >,\n",
       " <Residue VAL het=  resseq=210 icode= >,\n",
       " <Residue GLU het=  resseq=211 icode= >,\n",
       " <Residue PRO het=  resseq=212 icode= >,\n",
       " <Residue LYS het=  resseq=213 icode= >,\n",
       " <Residue SER het=  resseq=214 icode= >,\n",
       " <Residue CYS het=  resseq=215 icode= >,\n",
       " <Residue HOH het=W resseq=216 icode= >,\n",
       " <Residue HOH het=W resseq=217 icode= >,\n",
       " <Residue HOH het=W resseq=218 icode= >,\n",
       " <Residue HOH het=W resseq=219 icode= >,\n",
       " <Residue HOH het=W resseq=220 icode= >,\n",
       " <Residue HOH het=W resseq=221 icode= >,\n",
       " <Residue HOH het=W resseq=222 icode= >,\n",
       " <Residue HOH het=W resseq=223 icode= >,\n",
       " <Residue HOH het=W resseq=224 icode= >]"
      ]
     },
     "execution_count": 46,
     "metadata": {},
     "output_type": "execute_result"
    }
   ],
   "source": [
    "residues = chainH.get_list() # or list(chainH.get_residues()) \n",
    "residues\n",
    "#[r.get_id() for r in residues]"
   ]
  },
  {
   "cell_type": "markdown",
   "id": "f4d6c207",
   "metadata": {},
   "source": [
    "Let's look at the `id` of a residue"
   ]
  },
  {
   "cell_type": "code",
   "execution_count": 47,
   "id": "5690712b",
   "metadata": {},
   "outputs": [
    {
     "data": {
      "text/plain": [
       "(' ', 24, ' ')"
      ]
     },
     "execution_count": 47,
     "metadata": {},
     "output_type": "execute_result"
    }
   ],
   "source": [
    "residues[23].id"
   ]
  },
  {
   "cell_type": "markdown",
   "id": "dc0c6c84",
   "metadata": {},
   "source": [
    "The residue id is a tuple consisting of three elements, `(het_flag, residue_number, insertion_code)`.\n",
    "\n",
    "If the residue is a proper amino acid, the `het_flag` is ' ' (space, not empty!).\n",
    "\n",
    "If the residue is a hetero atom (ligand, water, other molecule) then the \n",
    "`het_flag` is not ' ', e.g. 'W' for water, 'H_GLC' for glucose, etc.\n",
    "\n",
    "The `insertion_code` is needed when there is an insertion within a CDR region (Chothia numbering).\n",
    "Otherwise it is a space ' ' as well."
   ]
  },
  {
   "cell_type": "markdown",
   "id": "15d26a46",
   "metadata": {},
   "source": [
    "To access these elements, we can destructure the `id` of a residue"
   ]
  },
  {
   "cell_type": "code",
   "execution_count": 48,
   "id": "5b2a6e8b",
   "metadata": {},
   "outputs": [],
   "source": [
    "het_flag, residue_number, insertion_code = residues[23].id"
   ]
  },
  {
   "cell_type": "markdown",
   "id": "21f92a54",
   "metadata": {},
   "source": [
    "or we can index into the id tuple, e.g."
   ]
  },
  {
   "cell_type": "code",
   "execution_count": 49,
   "id": "c3debf14",
   "metadata": {},
   "outputs": [],
   "source": [
    "het_flag = residues[23].id[0]"
   ]
  },
  {
   "cell_type": "markdown",
   "id": "6129ad71",
   "metadata": {},
   "source": [
    "We can obtain the name of the residue using the `get_resname()` method.\n",
    "\n",
    "Examples:"
   ]
  },
  {
   "cell_type": "markdown",
   "id": "a361b8b5",
   "metadata": {},
   "source": [
    "Residue 53 (python is 0-based, so index 52 refers to element 53) is GLY. "
   ]
  },
  {
   "cell_type": "code",
   "execution_count": 50,
   "id": "5f93ae47",
   "metadata": {},
   "outputs": [
    {
     "data": {
      "text/plain": [
       "'GLY'"
      ]
     },
     "execution_count": 50,
     "metadata": {},
     "output_type": "execute_result"
    }
   ],
   "source": [
    "residues[52].get_resname()"
   ]
  },
  {
   "cell_type": "markdown",
   "id": "481e153a",
   "metadata": {},
   "source": [
    "But as it seems to be an insertion within a CDR region, the insertion_code is 'A'."
   ]
  },
  {
   "cell_type": "code",
   "execution_count": 51,
   "id": "f4ef0281",
   "metadata": {},
   "outputs": [
    {
     "data": {
      "text/plain": [
       "(' ', 52, 'A')"
      ]
     },
     "execution_count": 51,
     "metadata": {},
     "output_type": "execute_result"
    }
   ],
   "source": [
    "residues[52].id"
   ]
  },
  {
   "cell_type": "markdown",
   "id": "e2652874",
   "metadata": {},
   "source": [
    "Residue 233  is a water molecule. This means the first entry of the id is 'W'."
   ]
  },
  {
   "cell_type": "code",
   "execution_count": 52,
   "id": "280e8937",
   "metadata": {},
   "outputs": [
    {
     "data": {
      "text/plain": [
       "'HOH'"
      ]
     },
     "execution_count": 52,
     "metadata": {},
     "output_type": "execute_result"
    }
   ],
   "source": [
    "residues[232].get_resname()"
   ]
  },
  {
   "cell_type": "code",
   "execution_count": 53,
   "id": "aaa3e90f",
   "metadata": {},
   "outputs": [
    {
     "data": {
      "text/plain": [
       "('W', 222, ' ')"
      ]
     },
     "execution_count": 53,
     "metadata": {},
     "output_type": "execute_result"
    }
   ],
   "source": [
    "residues[232].id"
   ]
  },
  {
   "cell_type": "markdown",
   "id": "4a4a03dd",
   "metadata": {},
   "source": [
    "### Atoms\n",
    "\n",
    "As the last level of the hierarchy, we can retrieve the atoms of a residue."
   ]
  },
  {
   "cell_type": "code",
   "execution_count": 54,
   "id": "d3fb726e",
   "metadata": {},
   "outputs": [
    {
     "data": {
      "text/plain": [
       "[<Atom N>, <Atom CA>, <Atom C>, <Atom O>]"
      ]
     },
     "execution_count": 54,
     "metadata": {},
     "output_type": "execute_result"
    }
   ],
   "source": [
    "atoms = residues[52].get_list()  # or list(residues[52].get_atoms())\n",
    "atoms"
   ]
  },
  {
   "cell_type": "code",
   "execution_count": 55,
   "id": "9df3a78f",
   "metadata": {},
   "outputs": [
    {
     "data": {
      "text/plain": [
       "'C'"
      ]
     },
     "execution_count": 55,
     "metadata": {},
     "output_type": "execute_result"
    }
   ],
   "source": [
    "atoms[2].id"
   ]
  },
  {
   "cell_type": "markdown",
   "id": "74c3f0da",
   "metadata": {},
   "source": [
    "All entities below structure also have an attribute `full_id` that shows the placing of the entity in the hierarchy."
   ]
  },
  {
   "cell_type": "code",
   "execution_count": 56,
   "id": "ad1c40a8",
   "metadata": {},
   "outputs": [
    {
     "data": {
      "text/plain": [
       "('9ds1', 0, 'H', (' ', 52, 'A'), ('C', ' '))"
      ]
     },
     "execution_count": 56,
     "metadata": {},
     "output_type": "execute_result"
    }
   ],
   "source": [
    "atoms[2].full_id"
   ]
  },
  {
   "cell_type": "markdown",
   "id": "871385df",
   "metadata": {},
   "source": [
    "To get the coordinates of an atom, we can use its `coord` property. It returns the x, y, z coordinates as a numpy array."
   ]
  },
  {
   "cell_type": "code",
   "execution_count": 57,
   "id": "1f169de2",
   "metadata": {},
   "outputs": [
    {
     "data": {
      "text/plain": [
       "array([ 16.06 , -62.04 ,  26.474], dtype=float32)"
      ]
     },
     "execution_count": 57,
     "metadata": {},
     "output_type": "execute_result"
    }
   ],
   "source": [
    "atoms[2].coord"
   ]
  },
  {
   "cell_type": "markdown",
   "id": "c1bfb744",
   "metadata": {},
   "source": [
    "Up to now we have walked the hierarchyy downwards using the `get_list()` method to retrieve children of an entity. We went from structure to model to chain to residue to atom. We can also walk the hierarchy upwards using the `get_parent()` method. I.e. given an atom, we can find the residue it belongs to."
   ]
  },
  {
   "cell_type": "code",
   "execution_count": 58,
   "id": "35af8aad",
   "metadata": {},
   "outputs": [
    {
     "data": {
      "text/plain": [
       "<Residue GLY het=  resseq=52 icode=A>"
      ]
     },
     "execution_count": 58,
     "metadata": {},
     "output_type": "execute_result"
    }
   ],
   "source": [
    "atoms[3].get_parent()"
   ]
  },
  {
   "cell_type": "markdown",
   "id": "c9c5255e",
   "metadata": {},
   "source": [
    "It is also possible to jump over levels in the hierarchy, using methods `get_models()`, `get_chains()`, `get_residues()`, `get_atoms()`. Note that these methods return iterators, not lists. To convert them to lists, use the `list` function."
   ]
  },
  {
   "cell_type": "markdown",
   "id": "b4980b74",
   "metadata": {},
   "source": [
    "To retrieve all chains of a structure, irrespective to which model they belong"
   ]
  },
  {
   "cell_type": "code",
   "execution_count": 59,
   "id": "94e4cacf",
   "metadata": {},
   "outputs": [
    {
     "data": {
      "text/plain": [
       "['A', 'B', 'C', 'H', 'L']"
      ]
     },
     "execution_count": 59,
     "metadata": {},
     "output_type": "execute_result"
    }
   ],
   "source": [
    "[c.id for c in structure.get_chains()]"
   ]
  },
  {
   "cell_type": "markdown",
   "id": "d13ae9b5",
   "metadata": {},
   "source": [
    "To retrieve all atoms of chain H"
   ]
  },
  {
   "cell_type": "code",
   "execution_count": 60,
   "id": "1120a146",
   "metadata": {},
   "outputs": [
    {
     "data": {
      "text/plain": [
       "1708"
      ]
     },
     "execution_count": 60,
     "metadata": {},
     "output_type": "execute_result"
    }
   ],
   "source": [
    "atoms = structure[0]['H'].get_atoms()\n",
    "len(list(atoms))"
   ]
  },
  {
   "cell_type": "markdown",
   "id": "8aa7639e",
   "metadata": {},
   "source": [
    "### Exercise\n",
    "\n",
    "Make sure you have downloaded the PDB files as in 'download_chothia_pdb.ipynb' notebook.\n",
    "\n",
    "Consider pdb_id '9ds2'\n",
    "\n",
    "- create the path to the file\n",
    "- parse the file\n",
    "- retrieve all residues of the 'H' chain (this can be done in a single line in python)\n",
    "- filter on amino acid residues (i.e. the `het_flag` of the parent residue is ' ', space not empty).\n",
    "  Here one can use a list comprehension in python:\n",
    "  `[res for res in residues if res.id[0] == ' ']`\n",
    "\n"
   ]
  },
  {
   "cell_type": "code",
   "execution_count": 66,
   "id": "88e1c5f0",
   "metadata": {},
   "outputs": [],
   "source": [
    "pdb_id = '9ds2'\n",
    "filename = os.path.join(PDB_DIR, f\"{pdb_id}_chothia.pdb\")\n",
    "\n",
    "parser = PDBParser(PERMISSIVE=1)\n",
    "structure = parser.get_structure(pdb_id, filename)\n",
    "\n",
    "residues = structure[0]['H'].get_residues()\n",
    "\n",
    "aa_residues = [res for res in residues if res.id[0] == ' ']"
   ]
  },
  {
   "cell_type": "markdown",
   "id": "558ea779",
   "metadata": {},
   "source": [
    "The `get_resname()` method of the residues returns a 3-letter code like 'ALA' or 'TRP'. \n",
    "We need to create a mapping from 3-letter codes to one-letter codes 'A' or 'W'. \n",
    "\n",
    "- create a python dictionary `three2one` that maps from three-letter protein codes to one-letter codes (ask Chat-GPT)\n",
    "\n",
    "- create a list of one-letter codes from the amino acid residues above. Use a list comprehension. This can be done using a list comprehension. \n",
    "\n",
    "- create a string from this list. Use `\"\".join(reslist)`\n",
    "\n"
   ]
  },
  {
   "cell_type": "code",
   "execution_count": 70,
   "id": "24e98988",
   "metadata": {},
   "outputs": [
    {
     "data": {
      "text/plain": [
       "'QVQLVESGGGVVQPGKSLRLSCAASGFTFSAYGIHWVRQAPGKGLEWVAFISFDGGSKYYADSVKGRFTISRDNSKNTLYVHMNSLRVEDTAVYYCARDRGGKYPPSMGFFDPWGQGTLVTVSSASTKGPSVFPLAPSSKSTSGGTAALGCLVKDYFPEPVTVSWNSGALTSGVHTFPAVLQSSGLYSLSSVVTVPSSSLGTQTYICNVNHKPSNTKVDKRVEPKSC'"
      ]
     },
     "execution_count": 70,
     "metadata": {},
     "output_type": "execute_result"
    }
   ],
   "source": [
    "three2one = {\n",
    "    'ALA': 'A',\n",
    "    'ARG': 'R',\n",
    "    'ASN': 'N',\n",
    "    'ASP': 'D',\n",
    "    'CYS': 'C',\n",
    "    'GLN': 'Q',\n",
    "    'GLU': 'E',\n",
    "    'GLY': 'G',\n",
    "    'HIS': 'H',\n",
    "    'ILE': 'I',\n",
    "    'LEU': 'L',\n",
    "    'LYS': 'K',\n",
    "    'MET': 'M',\n",
    "    'PHE': 'F',\n",
    "    'PRO': 'P',\n",
    "    'SER': 'S',\n",
    "    'THR': 'T',\n",
    "    'TRP': 'W',\n",
    "    'TYR': 'Y',\n",
    "    'VAL': 'V',\n",
    "    'SEC': 'U',  # Selenocysteine\n",
    "    'PYL': 'O',  # Pyrrolysine\n",
    "    'ASX': 'B',  # Aspartic acid or Asparagine\n",
    "    'GLX': 'Z',  # Glutamic acid or Glutamine\n",
    "    'XLE': 'J',  # Leucine or Isoleucine\n",
    "    'UNK': 'X'   # Unknown\n",
    "}\n",
    "\n",
    "r = [three2one[res.get_resname()] for res in aa_residues]\n",
    "\n",
    "''.join(r)"
   ]
  },
  {
   "cell_type": "markdown",
   "id": "07d7d37e",
   "metadata": {},
   "source": [
    "Write a function `extract_aa_sequence(pdb_id, chain, limit)` that\n",
    "\n",
    "- creates the path to the PDB file for pdb_id\n",
    "- parses the file\n",
    "- retrieves all residues of the given chain (e.g. 'H')\n",
    "- filters on `het_flag == ' '` and `res_number <= limit`.\n",
    "- returns a list of one-letter protein codes\n"
   ]
  },
  {
   "cell_type": "code",
   "execution_count": 71,
   "id": "bc483ad6",
   "metadata": {},
   "outputs": [],
   "source": [
    "def extract_aa_sequence(pdb_id, chain, limit):\n",
    "    filename = os.path.join(PDB_DIR, f\"{pdb_id}_chothia.pdb\")\n",
    "\n",
    "    parser = PDBParser(PERMISSIVE=1)\n",
    "    structure = parser.get_structure(pdb_id, filename)\n",
    "\n",
    "    residues = structure[0][chain].get_residues()\n",
    "\n",
    "    aa_residues = [res for res in residues if res.id[0] == ' ' and res.id[1] <= limit]\n",
    "\n",
    "    return ''.join([three2one[res.get_resname()] for res in aa_residues])"
   ]
  },
  {
   "cell_type": "code",
   "execution_count": 72,
   "id": "178ed7fa",
   "metadata": {},
   "outputs": [
    {
     "data": {
      "text/plain": [
       "'QVQLVESGGG'"
      ]
     },
     "execution_count": 72,
     "metadata": {},
     "output_type": "execute_result"
    }
   ],
   "source": [
    "extract_aa_sequence('9ds2', 'H', 10)"
   ]
  }
 ],
 "metadata": {
  "kernelspec": {
   "display_name": "env",
   "language": "python",
   "name": "python3"
  },
  "language_info": {
   "codemirror_mode": {
    "name": "ipython",
    "version": 3
   },
   "file_extension": ".py",
   "mimetype": "text/x-python",
   "name": "python",
   "nbconvert_exporter": "python",
   "pygments_lexer": "ipython3",
   "version": "3.9.12"
  }
 },
 "nbformat": 4,
 "nbformat_minor": 5
}
