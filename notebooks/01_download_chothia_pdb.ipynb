{
 "cells": [
  {
   "cell_type": "markdown",
   "id": "7cd3ac78",
   "metadata": {},
   "source": [
    "## Download Chothia renumbered PDB files from SAbDaB\n",
    "\n",
    "SAbDaB provides a webservice to download Chothia-renumbered PDB files at the following URL"
   ]
  },
  {
   "cell_type": "code",
   "execution_count": null,
   "id": "81160c28",
   "metadata": {},
   "outputs": [],
   "source": [
    "PDB_URL = \"https://opig.stats.ox.ac.uk/webapps/sabdab-sabpred/sabdab/pdb/{}/?scheme=chothia\""
   ]
  },
  {
   "cell_type": "markdown",
   "id": "0e3b5c96",
   "metadata": {},
   "source": [
    "### Create function to download PDB file \n",
    "\n",
    "Create the URL to download the PDB file for pdb_id '9ds2'"
   ]
  },
  {
   "cell_type": "code",
   "execution_count": null,
   "id": "8f4408b7",
   "metadata": {},
   "outputs": [],
   "source": [
    "pdb_id = '9ds2'\n",
    "\n",
    "url = ...\n",
    "\n",
    "url"
   ]
  },
  {
   "cell_type": "markdown",
   "id": "f53891cc",
   "metadata": {},
   "source": [
    "To download files from the internet, python provides the `requests` library.\n",
    "\n",
    "The function `requests.get(URL)` returns a response object with attributes\n",
    "- status_code\n",
    "- content\n",
    "\n",
    "As many things can go wrong when one tries to download files from the internet, it is important to check the `status_code`. A value of 200 means success. Any other value means something went wrong."
   ]
  },
  {
   "cell_type": "code",
   "execution_count": null,
   "id": "49dad60f",
   "metadata": {},
   "outputs": [],
   "source": [
    "import requests\n",
    "\n",
    "response = ...\n",
    "\n",
    "response.status_code"
   ]
  },
  {
   "cell_type": "markdown",
   "id": "07e8b3eb",
   "metadata": {},
   "source": [
    "Look at the first 100 characters of the `content` attribute"
   ]
  },
  {
   "cell_type": "code",
   "execution_count": null,
   "id": "c5af0e1e",
   "metadata": {},
   "outputs": [],
   "source": []
  },
  {
   "cell_type": "markdown",
   "id": "c9b1dbf4",
   "metadata": {},
   "source": [
    "Create the filename using pattern '{PDB_DIR}/{pdb_id}_chothia.pdb' and write the contents to that file.\n",
    "\n",
    "You need to create the directory first."
   ]
  },
  {
   "cell_type": "code",
   "execution_count": null,
   "id": "3b523fc6",
   "metadata": {},
   "outputs": [],
   "source": [
    "PDB_DIR  = '../data/pdbs'\n",
    "\n",
    "filename = f'...'\n",
    "\n",
    "# write contents to file"
   ]
  },
  {
   "cell_type": "markdown",
   "id": "96951f21",
   "metadata": {},
   "source": [
    "Define a function `download_pdb(pdb_id)` that does all the steps above.\n",
    "\n",
    "We return the filename when the download was successful, otherwise `None`\n",
    "\n",
    "- create url from PDB_URL template\n",
    "- create filename\n",
    "- if file exists, return filename (this allows us to rerun to add failed files)\n",
    "- download data\n",
    "- check status_code. If status_code == 200 and content length > 100, \n",
    "    - write content\n",
    "    - return filename\n",
    "- otherwise, \n",
    "    - print an error message stating that the pdb_id could not be downloaded\n",
    "    - return None   \n"
   ]
  },
  {
   "cell_type": "code",
   "execution_count": null,
   "id": "060d88d3",
   "metadata": {},
   "outputs": [],
   "source": [
    "def download_pdb(pdb_id):\n",
    "\n",
    "    ..."
   ]
  },
  {
   "cell_type": "markdown",
   "id": "3d2b55e9",
   "metadata": {},
   "source": [
    "### Download PDB files for unique pdb_ids\n",
    "\n",
    "Note: This download will be a few GB\n",
    "\n",
    "- Load 'ab_ag.tsv' into a pandas DataFrame\n",
    "- retrieve unique pdb_ids\n",
    "- loop over unique pdb_ids and download the PDB files"
   ]
  },
  {
   "cell_type": "code",
   "execution_count": null,
   "id": "b9e91553",
   "metadata": {},
   "outputs": [],
   "source": [
    "import pandas as pd\n",
    "\n",
    "SUMMARY_FILE = '...'\n",
    "\n",
    "df = ...\n",
    "\n",
    "unique_pdb_ids = ...\n",
    "\n"
   ]
  }
 ],
 "metadata": {
  "kernelspec": {
   "display_name": "env",
   "language": "python",
   "name": "python3"
  },
  "language_info": {
   "codemirror_mode": {
    "name": "ipython",
    "version": 3
   },
   "file_extension": ".py",
   "mimetype": "text/x-python",
   "name": "python",
   "nbconvert_exporter": "python",
   "pygments_lexer": "ipython3",
   "version": "3.9.12"
  }
 },
 "nbformat": 4,
 "nbformat_minor": 5
}
