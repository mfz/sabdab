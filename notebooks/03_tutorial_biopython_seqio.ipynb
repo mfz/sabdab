{
 "cells": [
  {
   "cell_type": "markdown",
   "id": "842af8f2",
   "metadata": {},
   "source": [
    "## Read and write sequence files using biopython"
   ]
  },
  {
   "cell_type": "markdown",
   "id": "d1dfdc68",
   "metadata": {},
   "source": [
    "### Sequence objects"
   ]
  },
  {
   "cell_type": "code",
   "execution_count": 2,
   "id": "45ef06b1",
   "metadata": {},
   "outputs": [],
   "source": [
    "from Bio.Seq import Seq"
   ]
  },
  {
   "cell_type": "markdown",
   "id": "c58403ef",
   "metadata": {},
   "source": [
    "A `Seq`instance is basically a string of letters with some additional functionality"
   ]
  },
  {
   "cell_type": "code",
   "execution_count": 5,
   "id": "2479e127",
   "metadata": {},
   "outputs": [
    {
     "data": {
      "text/plain": [
       "Seq('GATTACA')"
      ]
     },
     "execution_count": 5,
     "metadata": {},
     "output_type": "execute_result"
    }
   ],
   "source": [
    "s = Seq(\"GATTACA\")\n",
    "s"
   ]
  },
  {
   "cell_type": "code",
   "execution_count": 8,
   "id": "0cba0ff8",
   "metadata": {},
   "outputs": [
    {
     "data": {
      "text/plain": [
       "Seq('CTAATGT')"
      ]
     },
     "execution_count": 8,
     "metadata": {},
     "output_type": "execute_result"
    }
   ],
   "source": [
    "s.complement()"
   ]
  },
  {
   "cell_type": "code",
   "execution_count": 6,
   "id": "48925321",
   "metadata": {},
   "outputs": [
    {
     "data": {
      "text/plain": [
       "Seq('TGTAATC')"
      ]
     },
     "execution_count": 6,
     "metadata": {},
     "output_type": "execute_result"
    }
   ],
   "source": [
    "s.reverse_complement()"
   ]
  },
  {
   "cell_type": "code",
   "execution_count": 9,
   "id": "da98a2f0",
   "metadata": {},
   "outputs": [
    {
     "data": {
      "text/plain": [
       "Seq('GAUUACA')"
      ]
     },
     "execution_count": 9,
     "metadata": {},
     "output_type": "execute_result"
    }
   ],
   "source": [
    "s.transcribe()"
   ]
  },
  {
   "cell_type": "code",
   "execution_count": 7,
   "id": "73295abb",
   "metadata": {},
   "outputs": [
    {
     "name": "stderr",
     "output_type": "stream",
     "text": [
      "/Users/florian/projects/sabdb/env/lib/python3.9/site-packages/Bio/Seq.py:2879: BiopythonWarning: Partial codon, len(sequence) not a multiple of three. Explicitly trim the sequence or add trailing N before translation. This may become an error in future.\n",
      "  warnings.warn(\n"
     ]
    },
    {
     "data": {
      "text/plain": [
       "Seq('DY')"
      ]
     },
     "execution_count": 7,
     "metadata": {},
     "output_type": "execute_result"
    }
   ],
   "source": [
    "s.translate()"
   ]
  },
  {
   "cell_type": "code",
   "execution_count": 11,
   "id": "d1554b82",
   "metadata": {},
   "outputs": [
    {
     "data": {
      "text/plain": [
       "Seq('GATTACAGATTACA')"
      ]
     },
     "execution_count": 11,
     "metadata": {},
     "output_type": "execute_result"
    }
   ],
   "source": [
    "s + s"
   ]
  },
  {
   "cell_type": "code",
   "execution_count": 12,
   "id": "8739e715",
   "metadata": {},
   "outputs": [
    {
     "data": {
      "text/plain": [
       "'GATTACA'"
      ]
     },
     "execution_count": 12,
     "metadata": {},
     "output_type": "execute_result"
    }
   ],
   "source": [
    "str(s)"
   ]
  },
  {
   "cell_type": "markdown",
   "id": "758ef6f6",
   "metadata": {},
   "source": [
    "### Sequence annotation objects\n",
    "\n",
    "Sequence annotation objects, `SeqRecord`, allow attaching further information to a `Seq` object.\n",
    "\n",
    "They have (among others) the following attributes\n",
    "\n",
    "- `id`\n",
    "- `name`\n",
    "- `description`"
   ]
  },
  {
   "cell_type": "code",
   "execution_count": 13,
   "id": "66c78423",
   "metadata": {},
   "outputs": [],
   "source": [
    "from Bio.SeqRecord import SeqRecord"
   ]
  },
  {
   "cell_type": "code",
   "execution_count": 15,
   "id": "ddfd01ef",
   "metadata": {},
   "outputs": [
    {
     "data": {
      "text/plain": [
       "SeqRecord(seq=Seq('GATTACA'), id='test', name='<unknown name>', description='<unknown description>', dbxrefs=[])"
      ]
     },
     "execution_count": 15,
     "metadata": {},
     "output_type": "execute_result"
    }
   ],
   "source": [
    "sr = SeqRecord(s, id=\"test\")\n",
    "sr"
   ]
  },
  {
   "cell_type": "code",
   "execution_count": 16,
   "id": "f899de47",
   "metadata": {},
   "outputs": [
    {
     "data": {
      "text/plain": [
       "Seq('GATTACA')"
      ]
     },
     "execution_count": 16,
     "metadata": {},
     "output_type": "execute_result"
    }
   ],
   "source": [
    "sr.seq"
   ]
  },
  {
   "cell_type": "code",
   "execution_count": 17,
   "id": "f99fbcb4",
   "metadata": {},
   "outputs": [
    {
     "data": {
      "text/plain": [
       "'test'"
      ]
     },
     "execution_count": 17,
     "metadata": {},
     "output_type": "execute_result"
    }
   ],
   "source": [
    "sr.id"
   ]
  },
  {
   "cell_type": "markdown",
   "id": "663bfcb0",
   "metadata": {},
   "source": [
    "### Sequence input/output\n",
    "\n",
    "How to read and write sequences to and from FASTA files"
   ]
  },
  {
   "cell_type": "code",
   "execution_count": 19,
   "id": "b2f62ca8",
   "metadata": {},
   "outputs": [],
   "source": [
    "from Bio import SeqIO"
   ]
  },
  {
   "cell_type": "markdown",
   "id": "69f7a60e",
   "metadata": {},
   "source": [
    "To read sequences (as `SeqRecord`s) from a FASTA file, we can use the `SeqIO.parse(filaname, 'fasta')` function. It returns an iterator of `SeqRecord`s.\n",
    "\n",
    "One can use an iterator directly in a `for` loop, or retrieve the next element using `next`. To convert the iterator to a list, one can use the `list`function."
   ]
  },
  {
   "cell_type": "markdown",
   "id": "255b9059",
   "metadata": {},
   "source": [
    "To write a list of `SeqRecord` objects to a FASTA file, one can use the `SeqIO.write(records, filename, 'fasta')` function. Here `records` can be a list or a generator expression, which does not require all the records to be in memory at once."
   ]
  },
  {
   "cell_type": "code",
   "execution_count": 21,
   "id": "16cb836e",
   "metadata": {},
   "outputs": [
    {
     "data": {
      "text/plain": [
       "2"
      ]
     },
     "execution_count": 21,
     "metadata": {},
     "output_type": "execute_result"
    }
   ],
   "source": [
    "seq1 = SeqRecord(Seq(\"ACTG\"), id=\"seq1\", description = \"\")\n",
    "seq2 = SeqRecord(Seq(\"GATTACA\"), id=\"seq2\", description = \"\")\n",
    "SeqIO.write([seq1, seq2], \"seq.fasta\", \"fasta\")"
   ]
  },
  {
   "cell_type": "code",
   "execution_count": 24,
   "id": "e22c3448",
   "metadata": {},
   "outputs": [
    {
     "data": {
      "text/plain": [
       "[SeqRecord(seq=Seq('ACTG'), id='seq1', name='seq1', description='seq1', dbxrefs=[]),\n",
       " SeqRecord(seq=Seq('GATTACA'), id='seq2', name='seq2', description='seq2', dbxrefs=[])]"
      ]
     },
     "execution_count": 24,
     "metadata": {},
     "output_type": "execute_result"
    }
   ],
   "source": [
    "iter = SeqIO.parse(\"seq.fasta\", \"fasta\")\n",
    "list(iter)"
   ]
  },
  {
   "cell_type": "markdown",
   "id": "17ecf9c8",
   "metadata": {},
   "source": [
    "### Exercise\n",
    "\n",
    "In notebook 02 you have created a function that returns the amino-acid sequence of a given chain. Now we can write that sequence to a FASTA file.\n",
    "\n",
    "Consider '9ds2' again.\n",
    "\n",
    "- figure out the names of the heavy and the light chain (using ab_ag.tsv)\n",
    "- copy the function from notebook 02 into a code cell below\n",
    "- extract the amino-acid sequence for those two chains up to residue_numbers 109 for the light chain and 113 for the heavy chain\n",
    "- write them into separate FASTA files 'VH.fa' and 'VL.fa'"
   ]
  },
  {
   "cell_type": "markdown",
   "id": "0062f38d",
   "metadata": {},
   "source": []
  }
 ],
 "metadata": {
  "kernelspec": {
   "display_name": "env",
   "language": "python",
   "name": "python3"
  },
  "language_info": {
   "codemirror_mode": {
    "name": "ipython",
    "version": 3
   },
   "file_extension": ".py",
   "mimetype": "text/x-python",
   "name": "python",
   "nbconvert_exporter": "python",
   "pygments_lexer": "ipython3",
   "version": "3.9.12"
  }
 },
 "nbformat": 4,
 "nbformat_minor": 5
}
