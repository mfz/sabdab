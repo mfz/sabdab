{
 "cells": [
  {
   "cell_type": "markdown",
   "id": "c6a8d07a",
   "metadata": {},
   "source": [
    "## Find neighbours of atoms in PDB structures using biopython\n",
    "\n",
    "The PDB structure contains the (x, y, z) coordinates of every atom in the structure. biopython has an implementation of a fast algorithm, `NeighborSearch`, that can find neighbouring atoms that are within a certain distance of a given coordinate."
   ]
  },
  {
   "cell_type": "code",
   "execution_count": 1,
   "id": "b065c66c",
   "metadata": {},
   "outputs": [],
   "source": [
    "import os.path\n",
    "from Bio.PDB import PDBParser, NeighborSearch"
   ]
  },
  {
   "cell_type": "markdown",
   "id": "9c362c2b",
   "metadata": {},
   "source": [
    "Define the directory where the Chothia renumbered PDB file are stored."
   ]
  },
  {
   "cell_type": "code",
   "execution_count": 2,
   "id": "4b770ecd",
   "metadata": {},
   "outputs": [],
   "source": [
    "PDB_DIR = \"../data/pdbs\""
   ]
  },
  {
   "cell_type": "markdown",
   "id": "0c73345c",
   "metadata": {},
   "source": [
    "Given the `pdb_id`, find the path to the corresponding PDB file"
   ]
  },
  {
   "cell_type": "code",
   "execution_count": 3,
   "id": "6bc9ba4b",
   "metadata": {},
   "outputs": [],
   "source": [
    "pdb_id = \"9ds1\"\n",
    "filename = os.path.join(PDB_DIR, f\"{pdb_id}_chothia.pdb\")"
   ]
  },
  {
   "cell_type": "markdown",
   "id": "628018f5",
   "metadata": {},
   "source": [
    "First, we need to parse the PDB file"
   ]
  },
  {
   "cell_type": "code",
   "execution_count": 4,
   "id": "b307207b",
   "metadata": {},
   "outputs": [],
   "source": [
    "parser = PDBParser(PERMISSIVE=1)\n",
    "structure = parser.get_structure(pdb_id, filename)"
   ]
  },
  {
   "cell_type": "markdown",
   "id": "4cc7fc35",
   "metadata": {},
   "source": [
    "Then we need to initialise the data structure that is used to perform the search of neighbours. Here we use all atoms of the structure for demonstration. This can be wasteful. Later, it can be advantageous to only use the atoms of the antigen, for example."
   ]
  },
  {
   "cell_type": "code",
   "execution_count": 19,
   "id": "4e131ab6",
   "metadata": {},
   "outputs": [],
   "source": [
    "atoms = list(structure.get_atoms())\n",
    "ns = NeighborSearch(atoms)"
   ]
  },
  {
   "cell_type": "markdown",
   "id": "435cd25a",
   "metadata": {},
   "source": [
    "Now we can use the `ns.search(coords, distance)` method to find all atoms that are within `distance` angstroms from the position specified by the `[x, y, z]` array `coords`.\n",
    "\n",
    "We can retrieve the position of an atom using its `coord` property:"
   ]
  },
  {
   "cell_type": "code",
   "execution_count": 23,
   "id": "b58860b6",
   "metadata": {},
   "outputs": [
    {
     "data": {
      "text/plain": [
       "array([ 14.805, -56.923,  25.988], dtype=float32)"
      ]
     },
     "execution_count": 23,
     "metadata": {},
     "output_type": "execute_result"
    }
   ],
   "source": [
    "atom = structure[0]['H'][52]['N']\n",
    "atom.coord"
   ]
  },
  {
   "cell_type": "markdown",
   "id": "a887b3a7",
   "metadata": {},
   "source": [
    "To find all atoms in vicinity of an atom we simply pass the coordinates of the atom to the `ns.search` method."
   ]
  },
  {
   "cell_type": "code",
   "execution_count": 24,
   "id": "2f4225a5",
   "metadata": {},
   "outputs": [],
   "source": [
    "close_atoms = ns.search(atom.coord, 4.0)"
   ]
  },
  {
   "cell_type": "markdown",
   "id": "1186aebe",
   "metadata": {},
   "source": [
    "`close_atoms` now contains the atom entities of all atoms that are within 4.0 angstrom of the supplied coordinates. To find the residues and chains these atoms belong to, we can either use repeated application of the `get_parent()` method, or we can simply use the `get_full_id()` method.\n",
    "\n",
    "As we want the output as a DataFrame, we first create a vector of dicts, and then create the DataFrame. "
   ]
  },
  {
   "cell_type": "code",
   "execution_count": 120,
   "id": "f456b02c",
   "metadata": {},
   "outputs": [
    {
     "data": {
      "text/html": [
       "<div>\n",
       "<style scoped>\n",
       "    .dataframe tbody tr th:only-of-type {\n",
       "        vertical-align: middle;\n",
       "    }\n",
       "\n",
       "    .dataframe tbody tr th {\n",
       "        vertical-align: top;\n",
       "    }\n",
       "\n",
       "    .dataframe thead th {\n",
       "        text-align: right;\n",
       "    }\n",
       "</style>\n",
       "<table border=\"1\" class=\"dataframe\">\n",
       "  <thead>\n",
       "    <tr style=\"text-align: right;\">\n",
       "      <th></th>\n",
       "      <th>chain</th>\n",
       "      <th>resnum</th>\n",
       "      <th>resname</th>\n",
       "      <th>atom</th>\n",
       "    </tr>\n",
       "  </thead>\n",
       "  <tbody>\n",
       "    <tr>\n",
       "      <th>0</th>\n",
       "      <td>H</td>\n",
       "      <td>52</td>\n",
       "      <td>SER</td>\n",
       "      <td>OG</td>\n",
       "    </tr>\n",
       "    <tr>\n",
       "      <th>1</th>\n",
       "      <td>H</td>\n",
       "      <td>56</td>\n",
       "      <td>SER</td>\n",
       "      <td>O</td>\n",
       "    </tr>\n",
       "    <tr>\n",
       "      <th>2</th>\n",
       "      <td>H</td>\n",
       "      <td>52</td>\n",
       "      <td>SER</td>\n",
       "      <td>N</td>\n",
       "    </tr>\n",
       "    <tr>\n",
       "      <th>3</th>\n",
       "      <td>H</td>\n",
       "      <td>51</td>\n",
       "      <td>ILE</td>\n",
       "      <td>CG1</td>\n",
       "    </tr>\n",
       "    <tr>\n",
       "      <th>4</th>\n",
       "      <td>H</td>\n",
       "      <td>52</td>\n",
       "      <td>SER</td>\n",
       "      <td>O</td>\n",
       "    </tr>\n",
       "    <tr>\n",
       "      <th>5</th>\n",
       "      <td>H</td>\n",
       "      <td>51</td>\n",
       "      <td>ILE</td>\n",
       "      <td>O</td>\n",
       "    </tr>\n",
       "    <tr>\n",
       "      <th>6</th>\n",
       "      <td>H</td>\n",
       "      <td>52</td>\n",
       "      <td>SER</td>\n",
       "      <td>CB</td>\n",
       "    </tr>\n",
       "    <tr>\n",
       "      <th>7</th>\n",
       "      <td>H</td>\n",
       "      <td>52</td>\n",
       "      <td>SER</td>\n",
       "      <td>CA</td>\n",
       "    </tr>\n",
       "    <tr>\n",
       "      <th>8</th>\n",
       "      <td>H</td>\n",
       "      <td>52</td>\n",
       "      <td>SER</td>\n",
       "      <td>C</td>\n",
       "    </tr>\n",
       "    <tr>\n",
       "      <th>9</th>\n",
       "      <td>H</td>\n",
       "      <td>52A</td>\n",
       "      <td>GLY</td>\n",
       "      <td>N</td>\n",
       "    </tr>\n",
       "    <tr>\n",
       "      <th>10</th>\n",
       "      <td>H</td>\n",
       "      <td>51</td>\n",
       "      <td>ILE</td>\n",
       "      <td>CA</td>\n",
       "    </tr>\n",
       "    <tr>\n",
       "      <th>11</th>\n",
       "      <td>H</td>\n",
       "      <td>51</td>\n",
       "      <td>ILE</td>\n",
       "      <td>C</td>\n",
       "    </tr>\n",
       "    <tr>\n",
       "      <th>12</th>\n",
       "      <td>H</td>\n",
       "      <td>51</td>\n",
       "      <td>ILE</td>\n",
       "      <td>CB</td>\n",
       "    </tr>\n",
       "    <tr>\n",
       "      <th>13</th>\n",
       "      <td>H</td>\n",
       "      <td>51</td>\n",
       "      <td>ILE</td>\n",
       "      <td>N</td>\n",
       "    </tr>\n",
       "    <tr>\n",
       "      <th>14</th>\n",
       "      <td>H</td>\n",
       "      <td>50</td>\n",
       "      <td>HIS</td>\n",
       "      <td>ND1</td>\n",
       "    </tr>\n",
       "    <tr>\n",
       "      <th>15</th>\n",
       "      <td>H</td>\n",
       "      <td>50</td>\n",
       "      <td>HIS</td>\n",
       "      <td>CE1</td>\n",
       "    </tr>\n",
       "  </tbody>\n",
       "</table>\n",
       "</div>"
      ],
      "text/plain": [
       "   chain resnum resname atom\n",
       "0      H    52      SER   OG\n",
       "1      H    56      SER    O\n",
       "2      H    52      SER    N\n",
       "3      H    51      ILE  CG1\n",
       "4      H    52      SER    O\n",
       "5      H    51      ILE    O\n",
       "6      H    52      SER   CB\n",
       "7      H    52      SER   CA\n",
       "8      H    52      SER    C\n",
       "9      H    52A     GLY    N\n",
       "10     H    51      ILE   CA\n",
       "11     H    51      ILE    C\n",
       "12     H    51      ILE   CB\n",
       "13     H    51      ILE    N\n",
       "14     H    50      HIS  ND1\n",
       "15     H    50      HIS  CE1"
      ]
     },
     "execution_count": 120,
     "metadata": {},
     "output_type": "execute_result"
    }
   ],
   "source": [
    "import pandas as pd\n",
    "\n",
    "data = []\n",
    "\n",
    "for atom in close_atoms:\n",
    "    s, m, c, r, a = atom.full_id\n",
    "    resnum = str(r[1]) + r[2]\n",
    "\n",
    "    # to get the resname we need to access the residue the atom belongs to\n",
    "    residue = atom.get_parent()\n",
    "    resname = residue.get_resname()\n",
    "    data.append(dict(chain = c, resnum = resnum, resname = resname, atom = a[0]))\n",
    "\n",
    "\n",
    "df = pd.DataFrame(data)\n",
    "\n",
    "df"
   ]
  },
  {
   "cell_type": "markdown",
   "id": "08d2ae55",
   "metadata": {},
   "source": [
    "Now we have learned how to find all atoms within the vicinity of a given atom. \n",
    "\n",
    "We can use this to find the atomic contact points between residues of an antibody and residues of its bound antigen.\n",
    "We say that the residue of an antibody is in contact with the residue of an antigen if the distance \n",
    "of the corresponding atoms is less that a threshold distance. Often a threshold of 4 angstroms is used."
   ]
  },
  {
   "cell_type": "markdown",
   "id": "a5302543",
   "metadata": {},
   "source": [
    "Write a function `atomic_contact_points(ab_chain, ag_chain, distance)` that loops over the atoms in ab_chain to get all atoms of ag_chain that are within distance, and reports a list of dicts with elements\n",
    "- ab_resnum\n",
    "- ab_resname\n",
    "- ab_atom\n",
    "- ag_resnum\n",
    "- ag_resname\n",
    "- ag_atom\n",
    "\n",
    "But only report for residues that are amino acids, i.e. het_flag == ' '."
   ]
  },
  {
   "cell_type": "code",
   "execution_count": null,
   "id": "4ddfdf04",
   "metadata": {},
   "outputs": [],
   "source": [
    "def atomic_contact_points(ab_chain, ag_chain, distance):\n",
    "    ..."
   ]
  },
  {
   "cell_type": "markdown",
   "id": "2e845df0",
   "metadata": {},
   "source": [
    "We want to create a DataFrame that contains atomic contacts for all the structures in our cleaned summary file.\n",
    "\n",
    "The desired result is a DataFrame with columns\n",
    "\n",
    "- `pdb_id`, e.g. '9ds1'\n",
    "- `ab_chain`, e.g. 'H' \n",
    "- `ab_chaintype`, 'heavy' or 'light'\n",
    "- `ab_resnum`, including icode, e.g. '52A'\n",
    "- `ab_resname`\n",
    "- `ab_atom`\n",
    "- `ag_chain`, e.g. 'G'\n",
    "- `ag_resnum`, e.g. '13'\n",
    "- `ag_resname`, e.g. 'TYR'\n",
    "- `ag_atom`\n"
   ]
  },
  {
   "cell_type": "markdown",
   "id": "a8da3322",
   "metadata": {},
   "source": [
    "We can accomplish this using our `atomic_contact_points` function from above.\n",
    "\n",
    "- read the cleaned summary file into a pandas DataFrame\n",
    "- for each row of the summary DataFrame\n",
    "    - read the PDB file\n",
    "    - find atomic contact points for Hchain\n",
    "    - find atomic contact points for Lchain\n",
    "    - add columns pbs_id, ab_chaintype ('heavy' and 'light')\n",
    "\n",
    "and concatenate to a single DataFrame\n",
    "\n"
   ]
  },
  {
   "cell_type": "markdown",
   "id": "3683895b",
   "metadata": {},
   "source": []
  }
 ],
 "metadata": {
  "kernelspec": {
   "display_name": "env",
   "language": "python",
   "name": "python3"
  },
  "language_info": {
   "codemirror_mode": {
    "name": "ipython",
    "version": 3
   },
   "file_extension": ".py",
   "mimetype": "text/x-python",
   "name": "python",
   "nbconvert_exporter": "python",
   "pygments_lexer": "ipython3",
   "version": "3.9.12"
  }
 },
 "nbformat": 4,
 "nbformat_minor": 5
}
