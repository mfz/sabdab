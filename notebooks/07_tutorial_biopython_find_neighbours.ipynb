{
 "cells": [
  {
   "cell_type": "markdown",
   "id": "c6a8d07a",
   "metadata": {},
   "source": [
    "## Find neighbours of atoms in PDB structures using biopython\n",
    "\n",
    "The PDB structure contains the (x, y, z) coordinates of every atom in the structure. biopython has an implementation of a fast algorithm, `NeighborSearch`, that can find neighbouring atoms that are within a certain distance of a given coordinate."
   ]
  },
  {
   "cell_type": "code",
   "execution_count": 1,
   "id": "b065c66c",
   "metadata": {},
   "outputs": [],
   "source": [
    "import os.path\n",
    "from Bio.PDB import PDBParser, NeighborSearch"
   ]
  },
  {
   "cell_type": "markdown",
   "id": "9c362c2b",
   "metadata": {},
   "source": [
    "Define the directory where the Chothia renumbered PDB file are stored."
   ]
  },
  {
   "cell_type": "code",
   "execution_count": 2,
   "id": "4b770ecd",
   "metadata": {},
   "outputs": [],
   "source": [
    "PDB_DIR = \"../data/pdbs\""
   ]
  },
  {
   "cell_type": "markdown",
   "id": "0c73345c",
   "metadata": {},
   "source": [
    "Given the `pdb_id`, find the path to the corresponding PDB file"
   ]
  },
  {
   "cell_type": "code",
   "execution_count": 3,
   "id": "6bc9ba4b",
   "metadata": {},
   "outputs": [],
   "source": [
    "pdb_id = \"9ds1\"\n",
    "filename = os.path.join(PDB_DIR, f\"{pdb_id}_chothia.pdb\")"
   ]
  },
  {
   "cell_type": "markdown",
   "id": "628018f5",
   "metadata": {},
   "source": [
    "First, we need to parse the PDB file"
   ]
  },
  {
   "cell_type": "code",
   "execution_count": 4,
   "id": "b307207b",
   "metadata": {},
   "outputs": [],
   "source": [
    "parser = PDBParser(PERMISSIVE=1)\n",
    "structure = parser.get_structure(pdb_id, filename)"
   ]
  },
  {
   "cell_type": "markdown",
   "id": "4cc7fc35",
   "metadata": {},
   "source": [
    "Then we need to initialise the data structure that is used to perform the search of neighbours. Here we use all atoms of the structure for demonstration. This can be wasteful. Later, it can be advantageous to only use the atoms of the antigen, for example."
   ]
  },
  {
   "cell_type": "code",
   "execution_count": 19,
   "id": "4e131ab6",
   "metadata": {},
   "outputs": [],
   "source": [
    "atoms = list(structure.get_atoms())\n",
    "ns = NeighborSearch(atoms)"
   ]
  },
  {
   "cell_type": "markdown",
   "id": "435cd25a",
   "metadata": {},
   "source": [
    "Now we can use the `ns.search(coords, distance)` method to find all atoms that are within `distance` angstroms from the position specified by the `[x, y, z]` array `coords`.\n",
    "\n",
    "We can retrieve the position of an atom using its `coord` property:"
   ]
  },
  {
   "cell_type": "code",
   "execution_count": 23,
   "id": "b58860b6",
   "metadata": {},
   "outputs": [
    {
     "data": {
      "text/plain": [
       "array([ 14.805, -56.923,  25.988], dtype=float32)"
      ]
     },
     "execution_count": 23,
     "metadata": {},
     "output_type": "execute_result"
    }
   ],
   "source": [
    "atom = structure[0]['H'][52]['N']\n",
    "atom.coord"
   ]
  },
  {
   "cell_type": "markdown",
   "id": "a887b3a7",
   "metadata": {},
   "source": [
    "To find all atoms in vicinity of an atom we simply pass the coordinates of the atom to the `ns.search` method."
   ]
  },
  {
   "cell_type": "code",
   "execution_count": 24,
   "id": "2f4225a5",
   "metadata": {},
   "outputs": [],
   "source": [
    "close_atoms = ns.search(atom.coord, 4.0)"
   ]
  },
  {
   "cell_type": "markdown",
   "id": "1186aebe",
   "metadata": {},
   "source": [
    "`close_atoms` now contains the atom entities of all atoms that are within 4.0 angstrom of the supplied coordinates. To find the residues and chains these atoms belong to, we can either use repeated application of the `get_parent()` method, or we can simply use the `get_full_id()` method.\n",
    "\n",
    "As we want the output as a DataFrame, we first create a vector of dicts, and then create the DataFrame. "
   ]
  },
  {
   "cell_type": "code",
   "execution_count": null,
   "id": "f456b02c",
   "metadata": {},
   "outputs": [],
   "source": [
    "import pandas as pd\n",
    "\n",
    "data = []\n",
    "\n",
    "for atom in close_atoms:\n",
    "    s, m, c, r, a = atom.full_id\n",
    "    resnum = str(r[1]) + r[2]\n",
    "\n",
    "    # to get the resname we need to access the residue the atom belongs to\n",
    "    residue = atom.get_parent()\n",
    "    resname = residue.get_resname()\n",
    "    data.append(dict(chain = c, resnum = resnum, resname = resname, atom = a[0]))\n",
    "\n",
    "\n",
    "df = pd.DataFrame(data)\n",
    "\n",
    "df"
   ]
  },
  {
   "cell_type": "markdown",
   "id": "08d2ae55",
   "metadata": {},
   "source": [
    "Now we have learned how to find all atoms within the vicinity of a given atom. \n",
    "\n",
    "We can use this to find the atomic contact points between residues of an antibody and residues of its bound antigen.\n",
    "We say that the residue of an antibody is in contact with the residue of an antigen if the distance \n",
    "of the corresponding atoms is less that a threshold distance. Often a threshold of 4 angstroms is used."
   ]
  },
  {
   "cell_type": "markdown",
   "id": "a5302543",
   "metadata": {},
   "source": [
    "Write a function `atomic_contact_points(ab_chain, ag_chain, distance)` that loops over the atoms in ab_chain to get all atoms of ag_chain that are within distance, and reports a DataFrame with columns\n",
    "- ab_resnum\n",
    "- ab_icode\n",
    "- ab_resname\n",
    "- ab_atom\n",
    "- ag_resnum\n",
    "- ag_icode\n",
    "- ag_resname\n",
    "- ag_atom\n",
    "\n",
    "But only report for residues that are amino acids, i.e. het_flag == ' '."
   ]
  },
  {
   "cell_type": "code",
   "execution_count": null,
   "id": "4ddfdf04",
   "metadata": {},
   "outputs": [],
   "source": [
    "def atomic_contact_points(ab_chain, ag_chain, distance):\n",
    "    ..."
   ]
  },
  {
   "cell_type": "markdown",
   "id": "8a51c07d",
   "metadata": {},
   "source": [
    "Now let's test the function"
   ]
  },
  {
   "cell_type": "code",
   "execution_count": null,
   "id": "e6fdf214",
   "metadata": {},
   "outputs": [],
   "source": [
    "cp = atomic_contact_points(structure[0]['H'], structure[0]['A'], 4.0)\n",
    "cp"
   ]
  },
  {
   "cell_type": "markdown",
   "id": "fdcbbf74",
   "metadata": {},
   "source": [
    "Now we have a DataFrame with atomic contact points. Often we are interested in residue contact points. These can be obtained from the DataFrame using  (check the pandas grouping documentation).\n",
    "\n",
    "For, example, to get the number of atom-atom and residue-residue contacts per antibody residue, we can use"
   ]
  },
  {
   "cell_type": "code",
   "execution_count": null,
   "id": "e71a0085",
   "metadata": {},
   "outputs": [],
   "source": [
    "cp.groupby(['ab_resnum', 'ab_resname']).agg(natomcontacts = ('ag_resnum', 'size'),\n",
    "                                            nrescontacts = ('ag_resnum', 'nunique')).reset_index()"
   ]
  },
  {
   "cell_type": "markdown",
   "id": "2c012f40",
   "metadata": {},
   "source": [
    "We are also interested in the occurrence of residue numbers in the heavy and light chains.\n",
    "Write a function `residue_occurrence(chain)` that creates as output a DataFrame with columns \n",
    "- ab_resnum\n",
    "- ab_icode\n",
    "- ab_resname\n",
    "\n",
    "Restrict to het_name == ' ' and resnum <= 128"
   ]
  },
  {
   "cell_type": "code",
   "execution_count": null,
   "id": "22dac5aa",
   "metadata": {},
   "outputs": [],
   "source": [
    "def residue_occurrence(chain):\n",
    "\n",
    "    ..."
   ]
  },
  {
   "cell_type": "markdown",
   "id": "f395f492",
   "metadata": {},
   "source": [
    "Let's test the function"
   ]
  },
  {
   "cell_type": "code",
   "execution_count": null,
   "id": "7cb8d15d",
   "metadata": {},
   "outputs": [],
   "source": [
    "ro = residue_occurrence(structure[0]['H'])\n",
    "ro"
   ]
  },
  {
   "cell_type": "markdown",
   "id": "efaad0f4",
   "metadata": {},
   "source": [
    "In the next notebook we are going to loop over all PDB files. It will, therefore, be necessary to add some more columns to the DataFrames. We can add a column at a given position using the `insert()` method. For example,"
   ]
  },
  {
   "cell_type": "code",
   "execution_count": null,
   "id": "e99e6afa",
   "metadata": {},
   "outputs": [],
   "source": [
    "ro.insert(loc = 0, column = 'chain_type', value = 'heavy')\n",
    "ro.insert(loc = 0, column = 'pdb_id', value = pdb_id)\n",
    "ro"
   ]
  }
 ],
 "metadata": {
  "kernelspec": {
   "display_name": "env",
   "language": "python",
   "name": "python3"
  },
  "language_info": {
   "codemirror_mode": {
    "name": "ipython",
    "version": 3
   },
   "file_extension": ".py",
   "mimetype": "text/x-python",
   "name": "python",
   "nbconvert_exporter": "python",
   "pygments_lexer": "ipython3",
   "version": "3.9.12"
  }
 },
 "nbformat": 4,
 "nbformat_minor": 5
}
