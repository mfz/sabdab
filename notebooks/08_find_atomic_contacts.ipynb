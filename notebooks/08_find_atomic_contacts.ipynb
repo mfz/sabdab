{
 "cells": [
  {
   "cell_type": "markdown",
   "id": "93c48e05",
   "metadata": {},
   "source": [
    "## Find atomic contacts between antibody and antigen pairs\n",
    "\n",
    "We want to create a DataFrame `contacts` that contains atomic contacts for all the structures in our cleaned summary file.\n",
    "\n",
    "The desired result is a DataFrame with columns\n",
    "\n",
    "- `pdb_id`, e.g. '9ds1'\n",
    "- `ab_chain`, e.g. 'H' \n",
    "- `ab_chaintype`, 'heavy' or 'light'\n",
    "- `ab_resnum`\n",
    "- `ab_icode`\n",
    "- `ab_resname`\n",
    "- `ab_atom`\n",
    "- `ag_chain`, e.g. 'G'\n",
    "- `ag_resnum`\n",
    "- `ag_icode`\n",
    "- `ag_resname`, e.g. 'TYR'\n",
    "- `ag_atom`\n",
    "\n",
    "We also want to create a DataFrame `residues` that contains occurrence of residues (in order to normalize the contacts).\n",
    "That DataFrame should contain columns\n",
    "\n",
    "- `pdb_id`, e.g. '9ds1'\n",
    "- `ab_chain`, e.g. 'H' \n",
    "- `ab_chaintype`, 'heavy' or 'light'\n",
    "- `ab_resnum`\n",
    "- `ab_icode`\n",
    "- `ab_resname`\n",
    "\n",
    "`residues` contains all residues, while `contacts` only contains residues that have contacts with the antigen chain."
   ]
  },
  {
   "cell_type": "markdown",
   "id": "b12c2988",
   "metadata": {},
   "source": [
    "We can accomplish this using our `atomic_contact_points` and `residue_occurrence` functions from notebook 07. Copy this function from the previous notebook into a code cell.\n",
    "\n",
    "- define empty DataFrame `contacts`\n",
    "- define empty DataFrame `residues`\n",
    "- read the cleaned summary file into a pandas DataFrame\n",
    "- for each row of the summary DataFrame\n",
    "    - try\n",
    "        - read the PDB file\n",
    "        - find atomic contact points for Hchain\n",
    "        - find atomic contact points for Lchain\n",
    "        - add columns pbs_id, ab_chain, ab_chaintype ('heavy' and 'light') to the data frames\n",
    "\n",
    "        - find residues for Hchain\n",
    "        - find residues for Lchain\n",
    "        - add columns pbs_id, ab_chain, ab_chaintype ('heavy' and 'light') to the data frames\n",
    "\n",
    "        - concatenate the  two contact DataFrames to `contacts`\n",
    "        - concatenate the two residue DataFrames to `residues` \n",
    "        \n",
    "    - except Exception\n",
    "        - print some error message\n",
    "\n",
    "\n",
    "Note that we want to put the logic into a try-except block, where we only concatenate to the contacts and residues data frames in the very end. This ensures that we only concatenate to the contacts and residues data frames if everything went fine."
   ]
  },
  {
   "cell_type": "markdown",
   "id": "fe317f1f",
   "metadata": {},
   "source": [
    "Import required libraries"
   ]
  },
  {
   "cell_type": "code",
   "execution_count": null,
   "id": "eaea14b8",
   "metadata": {},
   "outputs": [],
   "source": []
  },
  {
   "cell_type": "markdown",
   "id": "cb5c36af",
   "metadata": {},
   "source": [
    "Define constants"
   ]
  },
  {
   "cell_type": "code",
   "execution_count": null,
   "id": "43ad13f6",
   "metadata": {},
   "outputs": [],
   "source": [
    "SUMMARY_FILE = '...'\n",
    "PDB_DIR = '...'"
   ]
  },
  {
   "cell_type": "markdown",
   "id": "d57eda8b",
   "metadata": {},
   "source": [
    "Create the loop"
   ]
  },
  {
   "cell_type": "code",
   "execution_count": null,
   "id": "29c270c8",
   "metadata": {},
   "outputs": [],
   "source": []
  },
  {
   "cell_type": "markdown",
   "id": "13e5ff08",
   "metadata": {},
   "source": [
    "Save `contacts` and `residues` DataFrames under '../generated/contacts/contacts.tsv' and '../generated/contacts/residues.tsv'.\n",
    "\n",
    "So in your real repository, this notebook should propbably be somewhere under 'notebooks/contacts'."
   ]
  }
 ],
 "metadata": {
  "kernelspec": {
   "display_name": "env",
   "language": "python",
   "name": "python3"
  },
  "language_info": {
   "name": "python",
   "version": "3.9.12"
  }
 },
 "nbformat": 4,
 "nbformat_minor": 5
}
