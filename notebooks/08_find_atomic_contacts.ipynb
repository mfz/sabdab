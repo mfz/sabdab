{
 "cells": [
  {
   "cell_type": "markdown",
   "id": "93c48e05",
   "metadata": {},
   "source": [
    "## Find atomic contacts between antibody and antigen pairs\n",
    "\n",
    "We want to create a DataFrame that contains atomic contacts for all the structures in our cleaned summary file.\n",
    "\n",
    "The desired result is a DataFrame with columns\n",
    "\n",
    "- `pdb_id`, e.g. '9ds1'\n",
    "- `ab_chain`, e.g. 'H' \n",
    "- `ab_chaintype`, 'heavy' or 'light'\n",
    "- `ab_resnum`, including icode, e.g. '52A'\n",
    "- `ab_resname`\n",
    "- `ab_atom`\n",
    "- `ag_chain`, e.g. 'G'\n",
    "- `ag_resnum`, e.g. '13'\n",
    "- `ag_resname`, e.g. 'TYR'\n",
    "- `ag_atom`\n",
    "\n"
   ]
  },
  {
   "cell_type": "markdown",
   "id": "b12c2988",
   "metadata": {},
   "source": [
    "We can accomplish this using our `atomic_contact_points` function from notebook 07. Copy this function from the previous notebook into a code cell.\n",
    "\n",
    "- read the cleaned summary file into a pandas DataFrame\n",
    "- for each row of the summary DataFrame\n",
    "    - read the PDB file\n",
    "    - find atomic contact points for Hchain\n",
    "    - find atomic contact points for Lchain\n",
    "    - add columns pbs_id, ab_chaintype ('heavy' and 'light')\n",
    "\n",
    "and concatenate to a single DataFrame."
   ]
  },
  {
   "cell_type": "markdown",
   "id": "fe317f1f",
   "metadata": {},
   "source": [
    "Import required libraries"
   ]
  },
  {
   "cell_type": "code",
   "execution_count": null,
   "id": "eaea14b8",
   "metadata": {},
   "outputs": [],
   "source": []
  },
  {
   "cell_type": "markdown",
   "id": "cb5c36af",
   "metadata": {},
   "source": [
    "Define constants"
   ]
  },
  {
   "cell_type": "code",
   "execution_count": null,
   "id": "43ad13f6",
   "metadata": {},
   "outputs": [],
   "source": [
    "SUMMARY_FILE = '...'\n",
    "PDB_DIR = '...'"
   ]
  }
 ],
 "metadata": {
  "kernelspec": {
   "display_name": "env",
   "language": "python",
   "name": "python3"
  },
  "language_info": {
   "name": "python",
   "version": "3.9.12"
  }
 },
 "nbformat": 4,
 "nbformat_minor": 5
}
