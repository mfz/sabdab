{
 "cells": [
  {
   "cell_type": "markdown",
   "id": "a1e9ccfa",
   "metadata": {},
   "source": [
    "## Filter summary data\n",
    "\n",
    "The ab_ag.tsv files contains multiple lines for each pdb_id, sometimes Hchain or Lchain are missing, etc.\n",
    "\n",
    "This needs to be cleaned before one can process the data further.\n",
    "\n",
    "Here we do a very simple cleaning step:\n",
    "\n",
    "- remove lines where Hchain or Lchain or antigen_chain are missing\n",
    "- remove lines for which we do not have a PDB file\n",
    "- remove lines for which antigen_chain is not a single character\n",
    "- for duplicated pdb_ids, select the first line only\n",
    "\n",
    "You will probably need to do more selection of entries.\n",
    "This is just to get started."
   ]
  },
  {
   "cell_type": "code",
   "execution_count": 27,
   "id": "189b4d61",
   "metadata": {},
   "outputs": [],
   "source": [
    "PDB_DIR = \"../data/pdbs\"\n",
    "\n",
    "\n",
    "import pandas as pd\n",
    "import os.path\n",
    "\n",
    "summary = pd.read_csv('../data/ab_ag.tsv', sep='\\t')\n",
    "\n",
    "filtered_summary = summary[\n",
    "    summary['Hchain'].notna() &\n",
    "    summary['Lchain'].notna() &\n",
    "    (summary['antigen_chain'].fillna('').str.strip().str.len() == 1) &\n",
    "    summary['pdb'].apply(lambda pdb: os.path.exists(f\"{PDB_DIR}/{pdb}_chothia.pdb\"))\n",
    "].groupby('pdb').head(1)"
   ]
  },
  {
   "cell_type": "code",
   "execution_count": 28,
   "id": "44d919dc",
   "metadata": {},
   "outputs": [
    {
     "data": {
      "text/plain": [
       "array(['M', 'E', 'A', 'D', 'B', 'C', 'T', 'Q', 'G', 'Z', 'a', 'R', 'F',\n",
       "       'H', 'I', 'P', 'X', 'K', 'J', 'c', 'N', 'V', 'Y', 'S', 'U', 'd',\n",
       "       'O', 'm', 'b', 'W'], dtype=object)"
      ]
     },
     "execution_count": 28,
     "metadata": {},
     "output_type": "execute_result"
    }
   ],
   "source": [
    "filtered_summary['antigen_chain'].unique()"
   ]
  },
  {
   "cell_type": "markdown",
   "id": "cdc56720",
   "metadata": {},
   "source": [
    "Create a directory `generated/preprocess` and save the DataFrame there as `summary_pdb.tsv`."
   ]
  },
  {
   "cell_type": "code",
   "execution_count": 30,
   "id": "1b5df6f4",
   "metadata": {},
   "outputs": [],
   "source": [
    "filtered_summary.to_csv('../generated/preprocess/summary_pdb.tsv', sep='\\t', index=False)"
   ]
  }
 ],
 "metadata": {
  "kernelspec": {
   "display_name": "env",
   "language": "python",
   "name": "python3"
  },
  "language_info": {
   "codemirror_mode": {
    "name": "ipython",
    "version": 3
   },
   "file_extension": ".py",
   "mimetype": "text/x-python",
   "name": "python",
   "nbconvert_exporter": "python",
   "pygments_lexer": "ipython3",
   "version": "3.9.12"
  }
 },
 "nbformat": 4,
 "nbformat_minor": 5
}
