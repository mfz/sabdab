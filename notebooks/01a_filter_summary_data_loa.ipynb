{
 "cells": [
  {
   "cell_type": "markdown",
   "id": "45806b08",
   "metadata": {},
   "source": [
    "## Data cleaning\n",
    "\n",
    "The provided file `../data/ab_ag.tsv` contains multiple lines for each pdb_id, sometimes Hchain or Lchain are missing, etc.\n",
    "\n",
    "This needs to be cleaned before one can process the data further.\n",
    "\n",
    "Here we perform the following cleaning step:\n",
    "\n",
    "- remove lines where any of\n",
    "    - method\n",
    "    - model\n",
    "    - Hchain \n",
    "    - Lchain \n",
    "    - antigen_chain \n",
    "    - antigen_type\n",
    "    - antigen_species\n",
    "\n",
    "    are missing\n",
    "\n",
    "- restrict to structures where antigen_type = 'protein', i.e. the antibody binds to a single protein antigen chain\n",
    "\n",
    "- remove structures where structure is single chain Fv (i.e. require scfv = False)\n",
    "\n",
    "- restrict to structures with resolution <= 3.25 A\n",
    "\n",
    "- for pdb_ids with multiple rows, only keep the first row\n",
    "\n",
    "  Many pdb_ids have several rows in the ab_ag data frame. These correspond to different Ab-Ag complexes that have been co-crystallized. Inclusion of multiple complexes might skew the results. \n",
    "\n"
   ]
  },
  {
   "cell_type": "code",
   "execution_count": 1,
   "id": "0628ec1f",
   "metadata": {},
   "outputs": [
    {
     "data": {
      "text/plain": [
       "(1489, 19)"
      ]
     },
     "execution_count": 1,
     "metadata": {},
     "output_type": "execute_result"
    }
   ],
   "source": [
    "import pandas as pd\n",
    "import os.path\n",
    "\n",
    "# path to dataframe\n",
    "df = pd.read_csv(\"../data/ab_ag.tsv\", sep=\"\\t\")\n",
    "\n",
    "df_filtered= (df\n",
    "                .assign(resolution = pd.to_numeric(df[\"resolution\"], errors='coerce'))\n",
    "                .get([\"pdb\", \"Hchain\", \"Lchain\", \"model\", \"antigen_chain\",\n",
    "                        \"antigen_type\", \"antigen_name\", \"compound\", \"organism\",\n",
    "                        \"heavy_species\", \"light_species\", \"antigen_species\",\n",
    "                        \"resolution\", \"method\", \"scfv\", \"engineered\", \n",
    "                        \"heavy_subclass\", \"light_subclass\", \"light_ctype\"])\n",
    "                .dropna(subset=[\"pdb\", \"Hchain\", \"Lchain\", \n",
    "                                \"model\", \"antigen_chain\", \"antigen_type\",\n",
    "                                \"antigen_species\", \"method\"])\n",
    "                .query(\"scfv== False and resolution <= 3.25 and antigen_type == 'protein'\")\n",
    "                .groupby(\"pdb\")\n",
    "                .head(1))\n",
    "\n",
    "df_filtered.shape\n",
    "                "
   ]
  },
  {
   "cell_type": "markdown",
   "id": "b4d8b132",
   "metadata": {},
   "source": [
    "We further restrict our analysis to structures involving one of the three antigen species\n",
    "\n",
    "- SARS-CoV-2\n",
    "- Homo Sapiens\n",
    "- Influenza A"
   ]
  },
  {
   "cell_type": "code",
   "execution_count": 14,
   "id": "825d42c0",
   "metadata": {},
   "outputs": [
    {
     "data": {
      "text/plain": [
       "(966, 20)"
      ]
     },
     "execution_count": 14,
     "metadata": {},
     "output_type": "execute_result"
    }
   ],
   "source": [
    "df_filtered[\"species\"] = \"\"\n",
    "df_filtered.loc[df_filtered[\"antigen_species\"].str.contains(\"coronavirus2\", case = False, na = False), \"species\"] = \"SARS-CoV-2\"\n",
    "df_filtered.loc[df_filtered[\"antigen_species\"].str.contains(\"homo sapiens\", case = False, na = False), \"species\"] = \"Homo Sapiens\"\n",
    "df_filtered.loc[df_filtered[\"antigen_species\"].str.contains(\"influenza a\", case = False, na = False), \"species\"] = \"Influenza A\"\n",
    "df_filtered = df_filtered[df_filtered[\"species\"] != \"\"]\n",
    "\n",
    "df_filtered.species.value_counts()\n",
    "\n",
    "df_filtered.shape\n"
   ]
  },
  {
   "cell_type": "code",
   "execution_count": null,
   "id": "db170e0d",
   "metadata": {},
   "outputs": [],
   "source": [
    "os.makedirs(\"../generated/data cleanup\", exist_ok=True)\n",
    "df_filtered.to_csv(\"../generated/data cleanup/ab_ag_filtered.tsv\", sep=\"\\t\", index=False)\n"
   ]
  },
  {
   "cell_type": "markdown",
   "id": "42b58ce9",
   "metadata": {},
   "source": [
    "The cleaned data frame is stored under `data cleanup/ab_ag_filtered.tsv`."
   ]
  },
  {
   "cell_type": "markdown",
   "id": "5045d6f0",
   "metadata": {},
   "source": [
    "It contains the following columns\n",
    "\n",
    "| Name            | Description                                                                                                                                                      |\n",
    "|-----------------|------------------------------------------------------------------------------------------------------------------------------------------------------------------|\n",
    "| PDB             | The PDB accession code (e.g. `12e8`).                                                                                                                            |\n",
    "| Hchain          | The chain identifier for the heavy chain (e.g. `H`).                                                                                                             |\n",
    "| Lchain          | The chain identifier for the light chain (e.g. `L`).                                                                                                             |\n",
    "| model           | The model identifier for the pairing (e.g. `0`, `1`, `2`...). This is `0` for X-ray structures.                                                                  |\n",
    "| antigen_chain   | The chain identifier for the bound antigen chain (e.g. `A`).                                                                                                     |\n",
    "| antigen_type    | The classification of the antigen (always  `protein`).                                                                                                              |\n",
    "| compound        | The description of the molecule in the structure. Typically the title of the associated publication.                                                             |\n",
    "| organism        | The organism(s) of the molecule(s) in the structure.                                                                                                              |\n",
    "| heavy_species   | The species of the heavy antibody chain, `homo sapiens`                                                                                                                         |\n",
    "| light_species   | The species of the light antibody chain, `homo sapiens`                                                                                                                       |\n",
    "| antigen_species | The species of the antigen chain.                                                                                                                                |\n",
    "| resolution      | The resolution of the structure if determined by X-ray diffraction or electron microscopy.                                                                       |\n",
    "| method          | The method with which the structure was determined.                                                                                                              |\n",
    "| scfv            | Whether the structure is a single-chain Fv. (always `False`)                                                                                                                     |\n",
    "| engineered      | Whether the structure has been engineered (`True` or `False`).                                                                                                   |\n",
    "| heavy_subclass  | The IMGT variable subgroup of the heavy chain. Structures not available in the IMGT database have a subgroup assigned by SAbDab.                                 |\n",
    "| light_subclass  | The IMGT variable subgroup of the light chain. Structures not available in the IMGT database have a subgroup assigned by SAbDab.                                 |\n",
    "| light_ctype     | The type (`Kappa` or `Lambda`) of the light chain.                                                                                                               |\n",
    "| species         | One of `SARS-CoV-2`, `Homo Sapiens`, `Influenza A`                                                                                           |"
   ]
  },
  {
   "cell_type": "markdown",
   "id": "9af36771",
   "metadata": {},
   "source": [
    "## THE END - Der Rest soll in ein neues Notebook Exploration"
   ]
  },
  {
   "cell_type": "code",
   "execution_count": 79,
   "id": "18125f75",
   "metadata": {},
   "outputs": [
    {
     "data": {
      "text/plain": [
       "<seaborn.axisgrid.FacetGrid at 0x16cceb140>"
      ]
     },
     "execution_count": 79,
     "metadata": {},
     "output_type": "execute_result"
    },
    {
     "data": {
      "image/png": "[encoded data removed]",
      "text/plain": [
       "<Figure size 649.75x500 with 1 Axes>"
      ]
     },
     "metadata": {},
     "output_type": "display_data"
    }
   ],
   "source": [
    "import seaborn as sns\n",
    "#sns.catplot(df, x=\"organism\", y=\"resolution\", kind = \"strip\", hue=\"method\")\n",
    "sns.catplot(df_filtered,x=\"method\", y=\"resolution\", kind = \"strip\", hue=\"species\")"
   ]
  },
  {
   "cell_type": "code",
   "execution_count": null,
   "id": "ac01ff25",
   "metadata": {},
   "outputs": [
    {
     "data": {
      "text/html": [
       "<div>\n",
       "<style scoped>\n",
       "    .dataframe tbody tr th:only-of-type {\n",
       "        vertical-align: middle;\n",
       "    }\n",
       "\n",
       "    .dataframe tbody tr th {\n",
       "        vertical-align: top;\n",
       "    }\n",
       "\n",
       "    .dataframe thead th {\n",
       "        text-align: right;\n",
       "    }\n",
       "</style>\n",
       "<table border=\"1\" class=\"dataframe\">\n",
       "  <thead>\n",
       "    <tr style=\"text-align: right;\">\n",
       "      <th>method</th>\n",
       "      <th>ELECTRON MICROSCOPY</th>\n",
       "      <th>X-RAY DIFFRACTION</th>\n",
       "    </tr>\n",
       "    <tr>\n",
       "      <th>species</th>\n",
       "      <th></th>\n",
       "      <th></th>\n",
       "    </tr>\n",
       "  </thead>\n",
       "  <tbody>\n",
       "    <tr>\n",
       "      <th>Homo Sapiens</th>\n",
       "      <td>36</td>\n",
       "      <td>363</td>\n",
       "    </tr>\n",
       "    <tr>\n",
       "      <th>Influenza A</th>\n",
       "      <td>38</td>\n",
       "      <td>61</td>\n",
       "    </tr>\n",
       "    <tr>\n",
       "      <th>SARS-CoV-2</th>\n",
       "      <td>250</td>\n",
       "      <td>218</td>\n",
       "    </tr>\n",
       "  </tbody>\n",
       "</table>\n",
       "</div>"
      ],
      "text/plain": [
       "method        ELECTRON MICROSCOPY  X-RAY DIFFRACTION\n",
       "species                                             \n",
       "Homo Sapiens                   36                363\n",
       "Influenza A                    38                 61\n",
       "SARS-CoV-2                    250                218"
      ]
     },
     "execution_count": 78,
     "metadata": {},
     "output_type": "execute_result"
    }
   ],
   "source": [
    "pd.crosstab(df_filtered[\"species\"], df_filtered[\"method\"])"
   ]
  },
  {
   "cell_type": "code",
   "execution_count": 54,
   "id": "b3c5fd97",
   "metadata": {},
   "outputs": [
    {
     "data": {
      "text/plain": [
       "array(['E', 'A', 'D', 'B', 'C', 'R', 'H', 'I', 'P', 'F', 'X', 'K', 'Z',\n",
       "       'J', 'Q', 'T', 'G', 'M', 'V', 'S', 'c', 'Y', 'U', 'm', 'b', 'N',\n",
       "       'O', 'W'], dtype=object)"
      ]
     },
     "execution_count": 54,
     "metadata": {},
     "output_type": "execute_result"
    }
   ],
   "source": [
    "df_filtered.antigen_chain.unique()"
   ]
  },
  {
   "cell_type": "markdown",
   "id": "8ee6fc9d",
   "metadata": {},
   "source": [
    "## Pdb Liste mit eindeutigen pdbs für Sars CoV 2 (Corona)"
   ]
  },
  {
   "cell_type": "code",
   "execution_count": 56,
   "id": "f525f314",
   "metadata": {},
   "outputs": [
    {
     "data": {
      "text/html": [
       "<div>\n",
       "<style scoped>\n",
       "    .dataframe tbody tr th:only-of-type {\n",
       "        vertical-align: middle;\n",
       "    }\n",
       "\n",
       "    .dataframe tbody tr th {\n",
       "        vertical-align: top;\n",
       "    }\n",
       "\n",
       "    .dataframe thead th {\n",
       "        text-align: right;\n",
       "    }\n",
       "</style>\n",
       "<table border=\"1\" class=\"dataframe\">\n",
       "  <thead>\n",
       "    <tr style=\"text-align: right;\">\n",
       "      <th></th>\n",
       "      <th>pdb</th>\n",
       "    </tr>\n",
       "  </thead>\n",
       "  <tbody>\n",
       "    <tr>\n",
       "      <th>46</th>\n",
       "      <td>9cci</td>\n",
       "    </tr>\n",
       "    <tr>\n",
       "      <th>47</th>\n",
       "      <td>9ccj</td>\n",
       "    </tr>\n",
       "    <tr>\n",
       "      <th>52</th>\n",
       "      <td>9bj2</td>\n",
       "    </tr>\n",
       "    <tr>\n",
       "      <th>53</th>\n",
       "      <td>9bj3</td>\n",
       "    </tr>\n",
       "    <tr>\n",
       "      <th>108</th>\n",
       "      <td>8z6r</td>\n",
       "    </tr>\n",
       "    <tr>\n",
       "      <th>...</th>\n",
       "      <td>...</td>\n",
       "    </tr>\n",
       "    <tr>\n",
       "      <th>5470</th>\n",
       "      <td>7chp</td>\n",
       "    </tr>\n",
       "    <tr>\n",
       "      <th>5482</th>\n",
       "      <td>7n4i</td>\n",
       "    </tr>\n",
       "    <tr>\n",
       "      <th>5511</th>\n",
       "      <td>7l7d</td>\n",
       "    </tr>\n",
       "    <tr>\n",
       "      <th>5514</th>\n",
       "      <td>7n3d</td>\n",
       "    </tr>\n",
       "    <tr>\n",
       "      <th>5522</th>\n",
       "      <td>7tas</td>\n",
       "    </tr>\n",
       "  </tbody>\n",
       "</table>\n",
       "<p>468 rows × 1 columns</p>\n",
       "</div>"
      ],
      "text/plain": [
       "       pdb\n",
       "46    9cci\n",
       "47    9ccj\n",
       "52    9bj2\n",
       "53    9bj3\n",
       "108   8z6r\n",
       "...    ...\n",
       "5470  7chp\n",
       "5482  7n4i\n",
       "5511  7l7d\n",
       "5514  7n3d\n",
       "5522  7tas\n",
       "\n",
       "[468 rows x 1 columns]"
      ]
     },
     "execution_count": 56,
     "metadata": {},
     "output_type": "execute_result"
    }
   ],
   "source": [
    "# Alle eindeutigen PDB-IDs aus der gefilterten DataFrame holen\n",
    "pdb_ids_sars_cov2 = df_filtered.query(\"species == 'SARS-CoV-2'\").get(['pdb'])\n",
    "\n",
    "#save to file\n",
    "pdb_ids_sars_cov2.to_csv(\"pdb_ids_sars_cov2.csv\", index=False, header=True)\n",
    "\n",
    "pdb_ids_sars_cov2"
   ]
  },
  {
   "cell_type": "markdown",
   "id": "3adff334",
   "metadata": {},
   "source": [
    "## Pdb Liste mit eindeutigen pdbs für Homo Sapiens"
   ]
  },
  {
   "cell_type": "code",
   "execution_count": 57,
   "id": "f73bd64f",
   "metadata": {},
   "outputs": [
    {
     "data": {
      "text/html": [
       "<div>\n",
       "<style scoped>\n",
       "    .dataframe tbody tr th:only-of-type {\n",
       "        vertical-align: middle;\n",
       "    }\n",
       "\n",
       "    .dataframe tbody tr th {\n",
       "        vertical-align: top;\n",
       "    }\n",
       "\n",
       "    .dataframe thead th {\n",
       "        text-align: right;\n",
       "    }\n",
       "</style>\n",
       "<table border=\"1\" class=\"dataframe\">\n",
       "  <thead>\n",
       "    <tr style=\"text-align: right;\">\n",
       "      <th></th>\n",
       "      <th>pdb</th>\n",
       "    </tr>\n",
       "  </thead>\n",
       "  <tbody>\n",
       "    <tr>\n",
       "      <th>29</th>\n",
       "      <td>8rmx</td>\n",
       "    </tr>\n",
       "    <tr>\n",
       "      <th>31</th>\n",
       "      <td>8rmy</td>\n",
       "    </tr>\n",
       "    <tr>\n",
       "      <th>128</th>\n",
       "      <td>8znz</td>\n",
       "    </tr>\n",
       "    <tr>\n",
       "      <th>144</th>\n",
       "      <td>9avo</td>\n",
       "    </tr>\n",
       "    <tr>\n",
       "      <th>145</th>\n",
       "      <td>9awe</td>\n",
       "    </tr>\n",
       "    <tr>\n",
       "      <th>...</th>\n",
       "      <td>...</td>\n",
       "    </tr>\n",
       "    <tr>\n",
       "      <th>5515</th>\n",
       "      <td>4od2</td>\n",
       "    </tr>\n",
       "    <tr>\n",
       "      <th>5516</th>\n",
       "      <td>7rp3</td>\n",
       "    </tr>\n",
       "    <tr>\n",
       "      <th>5517</th>\n",
       "      <td>3q1s</td>\n",
       "    </tr>\n",
       "    <tr>\n",
       "      <th>5518</th>\n",
       "      <td>4zfg</td>\n",
       "    </tr>\n",
       "    <tr>\n",
       "      <th>5521</th>\n",
       "      <td>4ps4</td>\n",
       "    </tr>\n",
       "  </tbody>\n",
       "</table>\n",
       "<p>399 rows × 1 columns</p>\n",
       "</div>"
      ],
      "text/plain": [
       "       pdb\n",
       "29    8rmx\n",
       "31    8rmy\n",
       "128   8znz\n",
       "144   9avo\n",
       "145   9awe\n",
       "...    ...\n",
       "5515  4od2\n",
       "5516  7rp3\n",
       "5517  3q1s\n",
       "5518  4zfg\n",
       "5521  4ps4\n",
       "\n",
       "[399 rows x 1 columns]"
      ]
     },
     "execution_count": 57,
     "metadata": {},
     "output_type": "execute_result"
    }
   ],
   "source": [
    "# Alle eindeutigen PDB-IDs aus der gefilterten DataFrame holen\n",
    "pdb_ids_homo_sapiens = df_filtered.query(\"species == 'Homo Sapiens'\").get(['pdb'])\n",
    "\n",
    "#save to file\n",
    "pdb_ids_homo_sapiens.to_csv(\"pdb_ids_homo_sapiens.csv\", index=False, header=True)\n",
    "\n",
    "pdb_ids_homo_sapiens"
   ]
  },
  {
   "cell_type": "markdown",
   "id": "b4753408",
   "metadata": {},
   "source": [
    "## Pdb Liste mit eindeutigen pdbs für Influenza A"
   ]
  },
  {
   "cell_type": "code",
   "execution_count": 58,
   "id": "3f7eef43",
   "metadata": {},
   "outputs": [
    {
     "data": {
      "text/html": [
       "<div>\n",
       "<style scoped>\n",
       "    .dataframe tbody tr th:only-of-type {\n",
       "        vertical-align: middle;\n",
       "    }\n",
       "\n",
       "    .dataframe tbody tr th {\n",
       "        vertical-align: top;\n",
       "    }\n",
       "\n",
       "    .dataframe thead th {\n",
       "        text-align: right;\n",
       "    }\n",
       "</style>\n",
       "<table border=\"1\" class=\"dataframe\">\n",
       "  <thead>\n",
       "    <tr style=\"text-align: right;\">\n",
       "      <th></th>\n",
       "      <th>pdb</th>\n",
       "    </tr>\n",
       "  </thead>\n",
       "  <tbody>\n",
       "    <tr>\n",
       "      <th>5</th>\n",
       "      <td>8veb</td>\n",
       "    </tr>\n",
       "    <tr>\n",
       "      <th>8</th>\n",
       "      <td>8ved</td>\n",
       "    </tr>\n",
       "    <tr>\n",
       "      <th>11</th>\n",
       "      <td>8vee</td>\n",
       "    </tr>\n",
       "    <tr>\n",
       "      <th>14</th>\n",
       "      <td>8vef</td>\n",
       "    </tr>\n",
       "    <tr>\n",
       "      <th>20</th>\n",
       "      <td>9dpc</td>\n",
       "    </tr>\n",
       "    <tr>\n",
       "      <th>...</th>\n",
       "      <td>...</td>\n",
       "    </tr>\n",
       "    <tr>\n",
       "      <th>5352</th>\n",
       "      <td>4kvn</td>\n",
       "    </tr>\n",
       "    <tr>\n",
       "      <th>5366</th>\n",
       "      <td>5vag</td>\n",
       "    </tr>\n",
       "    <tr>\n",
       "      <th>5391</th>\n",
       "      <td>4hfu</td>\n",
       "    </tr>\n",
       "    <tr>\n",
       "      <th>5396</th>\n",
       "      <td>6lxi</td>\n",
       "    </tr>\n",
       "    <tr>\n",
       "      <th>5433</th>\n",
       "      <td>5w6g</td>\n",
       "    </tr>\n",
       "  </tbody>\n",
       "</table>\n",
       "<p>99 rows × 1 columns</p>\n",
       "</div>"
      ],
      "text/plain": [
       "       pdb\n",
       "5     8veb\n",
       "8     8ved\n",
       "11    8vee\n",
       "14    8vef\n",
       "20    9dpc\n",
       "...    ...\n",
       "5352  4kvn\n",
       "5366  5vag\n",
       "5391  4hfu\n",
       "5396  6lxi\n",
       "5433  5w6g\n",
       "\n",
       "[99 rows x 1 columns]"
      ]
     },
     "execution_count": 58,
     "metadata": {},
     "output_type": "execute_result"
    }
   ],
   "source": [
    "# Alle eindeutigen PDB-IDs aus der gefilterten DataFrame holen\n",
    "pdb_ids_influenza = df_filtered.query(\"species == 'Influenza A'\").get(['pdb'])\n",
    "\n",
    "#save to file\n",
    "pdb_ids_influenza.to_csv(\"pdb_ids_homo_sapiens.csv\", index=False, header=True)\n",
    "\n",
    "pdb_ids_influenza"
   ]
  }
 ],
 "metadata": {
  "kernelspec": {
   "display_name": "env",
   "language": "python",
   "name": "python3"
  },
  "language_info": {
   "codemirror_mode": {
    "name": "ipython",
    "version": 3
   },
   "file_extension": ".py",
   "mimetype": "text/x-python",
   "name": "python",
   "nbconvert_exporter": "python",
   "pygments_lexer": "ipython3",
   "version": "3.9.12"
  }
 },
 "nbformat": 4,
 "nbformat_minor": 5
}
