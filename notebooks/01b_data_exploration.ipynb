{
 "cells": [
  {
   "cell_type": "markdown",
   "id": "ad47a78d",
   "metadata": {},
   "source": [
    "## Data exploration"
   ]
  },
  {
   "cell_type": "markdown",
   "id": "93dbae3d",
   "metadata": {},
   "source": [
    "In der project description steht:\n",
    "\n",
    "\n",
    "You project MUST contain the following elements:\n",
    "\n",
    "descriptive statistics about the datasets\n",
    "\n",
    "graphical representations\n",
    "\n",
    "\n",
    "\"Data exploration\n",
    "Now that you have cleaned data, explore your data to understand its\n",
    "\n",
    "structure. Perform basic exploratory data analysis.\n",
    "\n",
    "Look at the distribution of the overall data, specific samples or\n",
    "\n",
    "features.\n",
    "\n",
    "Visualize the data distribution\n",
    "\n",
    "Visualize the inter-dependencies (e.g. correlations) among specific samples/features of\n",
    "\n",
    "interest\n",
    "\n",
    "Check some of your hypothesis like - is something high/low between\n",
    "\n",
    "two conditions etc\""
   ]
  },
  {
   "cell_type": "code",
   "execution_count": 18,
   "id": "8a905948",
   "metadata": {},
   "outputs": [],
   "source": [
    "import pandas as pd\n",
    "import numpy as np\n",
    "import seaborn as sns\n",
    "import matplotlib.pyplot as plt\n",
    "from scipy.stats import chi2_contingency"
   ]
  },
  {
   "cell_type": "code",
   "execution_count": 19,
   "id": "6e42267c",
   "metadata": {},
   "outputs": [
    {
     "data": {
      "text/html": [
       "<div>\n",
       "<style scoped>\n",
       "    .dataframe tbody tr th:only-of-type {\n",
       "        vertical-align: middle;\n",
       "    }\n",
       "\n",
       "    .dataframe tbody tr th {\n",
       "        vertical-align: top;\n",
       "    }\n",
       "\n",
       "    .dataframe thead th {\n",
       "        text-align: right;\n",
       "    }\n",
       "</style>\n",
       "<table border=\"1\" class=\"dataframe\">\n",
       "  <thead>\n",
       "    <tr style=\"text-align: right;\">\n",
       "      <th></th>\n",
       "      <th>0</th>\n",
       "      <th>1</th>\n",
       "      <th>2</th>\n",
       "    </tr>\n",
       "  </thead>\n",
       "  <tbody>\n",
       "    <tr>\n",
       "      <th>pdb</th>\n",
       "      <td>8veb</td>\n",
       "      <td>8ved</td>\n",
       "      <td>8vee</td>\n",
       "    </tr>\n",
       "    <tr>\n",
       "      <th>Hchain</th>\n",
       "      <td>G</td>\n",
       "      <td>H</td>\n",
       "      <td>H</td>\n",
       "    </tr>\n",
       "    <tr>\n",
       "      <th>Lchain</th>\n",
       "      <td>I</td>\n",
       "      <td>L</td>\n",
       "      <td>L</td>\n",
       "    </tr>\n",
       "    <tr>\n",
       "      <th>model</th>\n",
       "      <td>0</td>\n",
       "      <td>0</td>\n",
       "      <td>0</td>\n",
       "    </tr>\n",
       "    <tr>\n",
       "      <th>antigen_chain</th>\n",
       "      <td>E</td>\n",
       "      <td>A</td>\n",
       "      <td>A</td>\n",
       "    </tr>\n",
       "    <tr>\n",
       "      <th>antigen_type</th>\n",
       "      <td>protein</td>\n",
       "      <td>protein</td>\n",
       "      <td>protein</td>\n",
       "    </tr>\n",
       "    <tr>\n",
       "      <th>antigen_name</th>\n",
       "      <td>hemagglutinin</td>\n",
       "      <td>hemagglutinin</td>\n",
       "      <td>hemagglutinin</td>\n",
       "    </tr>\n",
       "    <tr>\n",
       "      <th>compound</th>\n",
       "      <td>Cryo-EM structure of antibody T5-1E08 in compl...</td>\n",
       "      <td>Cryo-EM structure of antibody T5-1E11 in compl...</td>\n",
       "      <td>Cryo-EM structure of antibody T5-1E08 in compl...</td>\n",
       "    </tr>\n",
       "    <tr>\n",
       "      <th>organism</th>\n",
       "      <td>Homo sapiens; Influenza A virus</td>\n",
       "      <td>Homo sapiens; Influenza A virus</td>\n",
       "      <td>Homo sapiens; Influenza A virus</td>\n",
       "    </tr>\n",
       "    <tr>\n",
       "      <th>heavy_species</th>\n",
       "      <td>homo sapiens</td>\n",
       "      <td>homo sapiens</td>\n",
       "      <td>homo sapiens</td>\n",
       "    </tr>\n",
       "    <tr>\n",
       "      <th>light_species</th>\n",
       "      <td>homo sapiens</td>\n",
       "      <td>homo sapiens</td>\n",
       "      <td>homo sapiens</td>\n",
       "    </tr>\n",
       "    <tr>\n",
       "      <th>antigen_species</th>\n",
       "      <td>influenza a virus</td>\n",
       "      <td>influenza a virus</td>\n",
       "      <td>influenza a virus</td>\n",
       "    </tr>\n",
       "    <tr>\n",
       "      <th>resolution</th>\n",
       "      <td>2.97</td>\n",
       "      <td>2.98</td>\n",
       "      <td>3.18</td>\n",
       "    </tr>\n",
       "    <tr>\n",
       "      <th>method</th>\n",
       "      <td>ELECTRON MICROSCOPY</td>\n",
       "      <td>ELECTRON MICROSCOPY</td>\n",
       "      <td>ELECTRON MICROSCOPY</td>\n",
       "    </tr>\n",
       "    <tr>\n",
       "      <th>scfv</th>\n",
       "      <td>False</td>\n",
       "      <td>False</td>\n",
       "      <td>False</td>\n",
       "    </tr>\n",
       "    <tr>\n",
       "      <th>engineered</th>\n",
       "      <td>True</td>\n",
       "      <td>True</td>\n",
       "      <td>True</td>\n",
       "    </tr>\n",
       "    <tr>\n",
       "      <th>heavy_subclass</th>\n",
       "      <td>IGHV4</td>\n",
       "      <td>IGHV4</td>\n",
       "      <td>IGHV4</td>\n",
       "    </tr>\n",
       "    <tr>\n",
       "      <th>light_subclass</th>\n",
       "      <td>IGKV1</td>\n",
       "      <td>IGKV2</td>\n",
       "      <td>IGKV1</td>\n",
       "    </tr>\n",
       "    <tr>\n",
       "      <th>light_ctype</th>\n",
       "      <td>Kappa</td>\n",
       "      <td>Kappa</td>\n",
       "      <td>Kappa</td>\n",
       "    </tr>\n",
       "    <tr>\n",
       "      <th>species</th>\n",
       "      <td>Influenza A</td>\n",
       "      <td>Influenza A</td>\n",
       "      <td>Influenza A</td>\n",
       "    </tr>\n",
       "  </tbody>\n",
       "</table>\n",
       "</div>"
      ],
      "text/plain": [
       "                                                                 0  \\\n",
       "pdb                                                           8veb   \n",
       "Hchain                                                           G   \n",
       "Lchain                                                           I   \n",
       "model                                                            0   \n",
       "antigen_chain                                                    E   \n",
       "antigen_type                                               protein   \n",
       "antigen_name                                         hemagglutinin   \n",
       "compound         Cryo-EM structure of antibody T5-1E08 in compl...   \n",
       "organism                           Homo sapiens; Influenza A virus   \n",
       "heavy_species                                         homo sapiens   \n",
       "light_species                                         homo sapiens   \n",
       "antigen_species                                  influenza a virus   \n",
       "resolution                                                    2.97   \n",
       "method                                         ELECTRON MICROSCOPY   \n",
       "scfv                                                         False   \n",
       "engineered                                                    True   \n",
       "heavy_subclass                                               IGHV4   \n",
       "light_subclass                                               IGKV1   \n",
       "light_ctype                                                  Kappa   \n",
       "species                                                Influenza A   \n",
       "\n",
       "                                                                 1  \\\n",
       "pdb                                                           8ved   \n",
       "Hchain                                                           H   \n",
       "Lchain                                                           L   \n",
       "model                                                            0   \n",
       "antigen_chain                                                    A   \n",
       "antigen_type                                               protein   \n",
       "antigen_name                                         hemagglutinin   \n",
       "compound         Cryo-EM structure of antibody T5-1E11 in compl...   \n",
       "organism                           Homo sapiens; Influenza A virus   \n",
       "heavy_species                                         homo sapiens   \n",
       "light_species                                         homo sapiens   \n",
       "antigen_species                                  influenza a virus   \n",
       "resolution                                                    2.98   \n",
       "method                                         ELECTRON MICROSCOPY   \n",
       "scfv                                                         False   \n",
       "engineered                                                    True   \n",
       "heavy_subclass                                               IGHV4   \n",
       "light_subclass                                               IGKV2   \n",
       "light_ctype                                                  Kappa   \n",
       "species                                                Influenza A   \n",
       "\n",
       "                                                                 2  \n",
       "pdb                                                           8vee  \n",
       "Hchain                                                           H  \n",
       "Lchain                                                           L  \n",
       "model                                                            0  \n",
       "antigen_chain                                                    A  \n",
       "antigen_type                                               protein  \n",
       "antigen_name                                         hemagglutinin  \n",
       "compound         Cryo-EM structure of antibody T5-1E08 in compl...  \n",
       "organism                           Homo sapiens; Influenza A virus  \n",
       "heavy_species                                         homo sapiens  \n",
       "light_species                                         homo sapiens  \n",
       "antigen_species                                  influenza a virus  \n",
       "resolution                                                    3.18  \n",
       "method                                         ELECTRON MICROSCOPY  \n",
       "scfv                                                         False  \n",
       "engineered                                                    True  \n",
       "heavy_subclass                                               IGHV4  \n",
       "light_subclass                                               IGKV1  \n",
       "light_ctype                                                  Kappa  \n",
       "species                                                Influenza A  "
      ]
     },
     "execution_count": 19,
     "metadata": {},
     "output_type": "execute_result"
    }
   ],
   "source": [
    "df = pd.read_csv(\"../generated/data cleanup/ab_ag_filtered.tsv\", sep = '\\t')\n",
    "\n",
    "df.head(3).T"
   ]
  },
  {
   "cell_type": "markdown",
   "id": "77773cd5",
   "metadata": {},
   "source": [
    "Now do visualization. Plots should be able to stand for themselves, i.e. title"
   ]
  },
  {
   "cell_type": "code",
   "execution_count": 20,
   "id": "3226ffd5",
   "metadata": {},
   "outputs": [
    {
     "data": {
      "image/png": "[encoded data removed]",
      "text/plain": [
       "<Figure size 640x480 with 1 Axes>"
      ]
     },
     "metadata": {},
     "output_type": "display_data"
    }
   ],
   "source": [
    "sns.histplot(df, x = 'species', hue = 'species', shrink = 0.8)\n",
    "plt.title(\"Number of structures by species\")\n",
    "plt.show()"
   ]
  },
  {
   "cell_type": "markdown",
   "id": "f9522bef",
   "metadata": {},
   "source": [
    "Always describe what you see. I.e. Majority of structures are Sars and human, only small subset Influenza"
   ]
  },
  {
   "cell_type": "code",
   "execution_count": 21,
   "id": "520f0300",
   "metadata": {},
   "outputs": [
    {
     "data": {
      "image/png": "[encoded data removed]",
      "text/plain": [
       "<Figure size 640x480 with 1 Axes>"
      ]
     },
     "metadata": {},
     "output_type": "display_data"
    }
   ],
   "source": [
    "sns.histplot(df, x = 'method', hue = 'species', multiple = 'dodge', shrink = 0.8)\n",
    "plt.title(\"Number of structures by method and species\")\n",
    "plt.show()"
   ]
  },
  {
   "cell_type": "markdown",
   "id": "61baaab2",
   "metadata": {},
   "source": [
    "Clear association / dependency between method and species. \n",
    "\n",
    "When we see such a correlation (or not), we do a statistical test!"
   ]
  },
  {
   "cell_type": "code",
   "execution_count": 22,
   "id": "4fa76a01",
   "metadata": {},
   "outputs": [
    {
     "data": {
      "text/html": [
       "<div>\n",
       "<style scoped>\n",
       "    .dataframe tbody tr th:only-of-type {\n",
       "        vertical-align: middle;\n",
       "    }\n",
       "\n",
       "    .dataframe tbody tr th {\n",
       "        vertical-align: top;\n",
       "    }\n",
       "\n",
       "    .dataframe thead th {\n",
       "        text-align: right;\n",
       "    }\n",
       "</style>\n",
       "<table border=\"1\" class=\"dataframe\">\n",
       "  <thead>\n",
       "    <tr style=\"text-align: right;\">\n",
       "      <th>method</th>\n",
       "      <th>ELECTRON MICROSCOPY</th>\n",
       "      <th>X-RAY DIFFRACTION</th>\n",
       "    </tr>\n",
       "    <tr>\n",
       "      <th>species</th>\n",
       "      <th></th>\n",
       "      <th></th>\n",
       "    </tr>\n",
       "  </thead>\n",
       "  <tbody>\n",
       "    <tr>\n",
       "      <th>Homo Sapiens</th>\n",
       "      <td>36</td>\n",
       "      <td>363</td>\n",
       "    </tr>\n",
       "    <tr>\n",
       "      <th>Influenza A</th>\n",
       "      <td>38</td>\n",
       "      <td>61</td>\n",
       "    </tr>\n",
       "    <tr>\n",
       "      <th>SARS-CoV-2</th>\n",
       "      <td>250</td>\n",
       "      <td>218</td>\n",
       "    </tr>\n",
       "  </tbody>\n",
       "</table>\n",
       "</div>"
      ],
      "text/plain": [
       "method        ELECTRON MICROSCOPY  X-RAY DIFFRACTION\n",
       "species                                             \n",
       "Homo Sapiens                   36                363\n",
       "Influenza A                    38                 61\n",
       "SARS-CoV-2                    250                218"
      ]
     },
     "execution_count": 22,
     "metadata": {},
     "output_type": "execute_result"
    }
   ],
   "source": [
    "tbl = pd.crosstab(df.species, df.method)\n",
    "tbl"
   ]
  },
  {
   "cell_type": "code",
   "execution_count": 23,
   "id": "ae88b57f",
   "metadata": {},
   "outputs": [
    {
     "data": {
      "text/plain": [
       "np.float64(2.4752550459968912e-42)"
      ]
     },
     "execution_count": 23,
     "metadata": {},
     "output_type": "execute_result"
    }
   ],
   "source": [
    "chi2_stat, p, dof, expected = chi2_contingency(tbl.to_numpy())\n",
    "p"
   ]
  },
  {
   "cell_type": "markdown",
   "id": "48b57741",
   "metadata": {},
   "source": [
    "So there is a significant association between method and species (p = 2.5e-42).\n",
    "\n",
    "So if we observe difference between Human and Sars, need to check if this is really due to species or due to method (as humans are mainly X-ray, while Sars both EM and xray)"
   ]
  },
  {
   "cell_type": "markdown",
   "id": "fa30156e",
   "metadata": {},
   "source": [
    "Now go through all columns and look what's in there. Always write a sentence. Some are trivial, others not. \n",
    "\n",
    "Make plots for visualization.\n",
    "\n",
    "Point out if something needs to be taken into account in analysis later, like method above!"
   ]
  },
  {
   "cell_type": "markdown",
   "id": "14a6e036",
   "metadata": {},
   "source": [
    "Example: resolution\n",
    "\n",
    "Bimodal distribution. Can do boxplot, but that does not clearly show bimodality.\n",
    "Histogram or violinplot do (so prefer violinplot and histogram to boxplot in exploratory analysis, as it shows more).\n",
    "\n",
    "**Note**: SabDab seems to be using resolution = 0.0 when resolution is not known. This is important to mention and discuss. So maybe we should remove it after all? \n",
    "\n",
    "If we remove it, we could do a t-test between EM and X-ray resolution. X-ray seems to have better resolution if we exclude 0."
   ]
  },
  {
   "cell_type": "code",
   "execution_count": 38,
   "id": "6366ab35",
   "metadata": {},
   "outputs": [
    {
     "data": {
      "text/plain": [
       "<Axes: xlabel='method', ylabel='resolution'>"
      ]
     },
     "execution_count": 38,
     "metadata": {},
     "output_type": "execute_result"
    },
    {
     "data": {
      "image/png": "[encoded data removed]",
      "text/plain": [
       "<Figure size 640x480 with 1 Axes>"
      ]
     },
     "metadata": {},
     "output_type": "display_data"
    }
   ],
   "source": [
    "sns.boxplot(x = 'method', y = 'resolution', data = df)"
   ]
  },
  {
   "cell_type": "code",
   "execution_count": 35,
   "id": "bec0cd1c",
   "metadata": {},
   "outputs": [
    {
     "data": {
      "text/plain": [
       "<Axes: xlabel='resolution', ylabel='Count'>"
      ]
     },
     "execution_count": 35,
     "metadata": {},
     "output_type": "execute_result"
    },
    {
     "data": {
      "image/png": "[encoded data removed]",
      "text/plain": [
       "<Figure size 640x480 with 1 Axes>"
      ]
     },
     "metadata": {},
     "output_type": "display_data"
    }
   ],
   "source": [
    "sns.histplot(df, x = 'resolution', hue = 'method', multiple = 'dodge')"
   ]
  },
  {
   "cell_type": "code",
   "execution_count": 43,
   "id": "cf3a4856",
   "metadata": {},
   "outputs": [
    {
     "data": {
      "text/plain": [
       "<Axes: xlabel='method', ylabel='resolution'>"
      ]
     },
     "execution_count": 43,
     "metadata": {},
     "output_type": "execute_result"
    },
    {
     "data": {
      "image/png": "[encoded data removed]",
      "text/plain": [
       "<Figure size 640x480 with 1 Axes>"
      ]
     },
     "metadata": {},
     "output_type": "display_data"
    }
   ],
   "source": [
    "# here x and hue are the same. simply nicer to use color as well\n",
    "\n",
    "sns.violinplot(x = 'method', y = 'resolution', hue = 'method', data = df)"
   ]
  },
  {
   "cell_type": "markdown",
   "id": "b8726a5e",
   "metadata": {},
   "source": [
    "For others we see there is always same value. Could remove those"
   ]
  },
  {
   "cell_type": "code",
   "execution_count": 24,
   "id": "40a199d9",
   "metadata": {},
   "outputs": [
    {
     "data": {
      "text/plain": [
       "model\n",
       "0    966\n",
       "Name: count, dtype: int64"
      ]
     },
     "execution_count": 24,
     "metadata": {},
     "output_type": "execute_result"
    }
   ],
   "source": [
    "df.model.value_counts()"
   ]
  },
  {
   "cell_type": "code",
   "execution_count": 39,
   "id": "f2bdc5ad",
   "metadata": {},
   "outputs": [
    {
     "data": {
      "text/plain": [
       "engineered\n",
       "True     949\n",
       "False     17\n",
       "Name: count, dtype: int64"
      ]
     },
     "execution_count": 39,
     "metadata": {},
     "output_type": "execute_result"
    }
   ],
   "source": [
    "df.engineered.value_counts()"
   ]
  },
  {
   "cell_type": "code",
   "execution_count": 44,
   "id": "f296c081",
   "metadata": {},
   "outputs": [
    {
     "data": {
      "text/plain": [
       "antigen_type\n",
       "protein    966\n",
       "Name: count, dtype: int64"
      ]
     },
     "execution_count": 44,
     "metadata": {},
     "output_type": "execute_result"
    }
   ],
   "source": [
    "df.antigen_type.value_counts() # all the same by design"
   ]
  },
  {
   "cell_type": "code",
   "execution_count": 29,
   "id": "ed1a4ff0",
   "metadata": {},
   "outputs": [
    {
     "data": {
      "text/plain": [
       "antigen_name\n",
       "spike glycoprotein                                                201\n",
       "spike protein s1                                                  198\n",
       "hemagglutinin                                                      49\n",
       "surface glycoprotein                                               26\n",
       "neuraminidase                                                      25\n",
       "                                                                 ... \n",
       "spike protein s2                                                    1\n",
       "9mer peptide,beta-2-microglobulin,mhc class i antigenchimera        1\n",
       "sars-cov-2 rbd                                                      1\n",
       "receptor tyrosine-protein kinase erbb-2/higg1 fc domainfusion       1\n",
       "interleukin-22                                                      1\n",
       "Name: count, Length: 243, dtype: int64"
      ]
     },
     "execution_count": 29,
     "metadata": {},
     "output_type": "execute_result"
    }
   ],
   "source": [
    "df.antigen_name.value_counts()"
   ]
  },
  {
   "cell_type": "code",
   "execution_count": 30,
   "id": "fcf52213",
   "metadata": {},
   "outputs": [
    {
     "data": {
      "text/plain": [
       "organism\n",
       "HOMO SAPIENS                                                                                                   262\n",
       "Homo sapiens; Severe acute respiratory syndrome coronavirus 2                                                  244\n",
       "SEVERE ACUTE RESPIRATORY SYNDROME CORONAVIRUS 2; HOMO SAPIENS                                                  123\n",
       "Homo sapiens                                                                                                   108\n",
       "HOMO SAPIENS; SEVERE ACUTE RESPIRATORY SYNDROME CORONAVIRUS 2                                                   90\n",
       "Homo sapiens; Influenza A virus                                                                                 29\n",
       "INFLUENZA A VIRUS; HOMO SAPIENS                                                                                 17\n",
       "HOMO SAPIENS; SYNTHETIC CONSTRUCT                                                                               16\n",
       "HOMO SAPIENS; INFLUENZA A VIRUS                                                                                  7\n",
       "INFLUENZA A VIRUS (A/BEIJING/262/1995(H1N1)); HOMO SAPIENS                                                       6\n",
       "Homo sapiens; Severe acute respiratory syndrome coronavirus 2; synthetic construct; Tequatrovirus T4             5\n",
       "Homo sapiens; SYNTHETIC CONSTRUCT                                                                                4\n",
       "INFLUENZA A VIRUS (A/ENVIRONMENT/SHANGHAI/S1439/2013(H7N9)); HOMO SAPIENS                                        3\n",
       "Homo sapiens; Influenza A virus (A/Moscow/10/1999(H3N2))                                                         3\n",
       "Homo sapiens; Influenza A virus (A/Singapore/1/1957(H2N2))                                                       3\n",
       "INFLUENZA A VIRUS (A/TEXAS/50/2012(H3N2)); HOMO SAPIENS                                                          3\n",
       "INFLUENZA A VIRUS (A/SOLOMON ISLANDS/3/2006(H1N1)); HOMO SAPIENS                                                 3\n",
       "HOMO SAPIENS; INFLUENZA A VIRUS (A/ANHUI/1/2005(H5N1))                                                           3\n",
       "Homo sapiens; Streptococcus sp. 'group G'                                                                        2\n",
       "Homo sapiens; Influenza A virus (A/Brevig Mission/1/1918(H1N1))                                                  2\n",
       "Enterobacteria phage T4; Homo sapiens; Severe acute respiratory syndrome coronavirus 2                           2\n",
       "MUS MUSCULUS; HOMO SAPIENS                                                                                       2\n",
       "HOMO SAPIENS; INFLUENZA A VIRUS (A/SOLOMON ISLANDS/3/2006(H1N1))                                                 1\n",
       "INFLUENZA A VIRUS (A/VIETNAM/1203/2004(H5N1)); HOMO SAPIENS                                                      1\n",
       "INFLUENZA A VIRUS (A/SHANGHAI/02/2013(H7N9)); HOMO SAPIENS                                                       1\n",
       "INFLUENZA A VIRUS (A/HUNAN/02650/2016(H7N9); HOMO SAPIENS                                                        1\n",
       "HOMO SAPIENS; INFLUENZA A VIRUS (A/THAILAND/1(KAN-1)/2004(H5N1))                                                 1\n",
       "Enterobacteria phage T4; Homo sapiens                                                                            1\n",
       "INFLUENZA A VIRUS (A/HONG KONG/482/97(H5N1)); HOMO SAPIENS                                                       1\n",
       "HOMO SAPIENS; INFLUENZA A VIRUS (A/CHICKEN/VIETNAM/32/2004(H5N1))                                                1\n",
       "INFLUENZA A VIRUS; INFLUENZA A VIRUS (A/DENVER/1957(H1N1)); HOMO SAPIENS                                         1\n",
       "INFLUENZA A VIRUS (STRAIN A/JAPAN/305/1957 H2N2); HOMO SAPIENS                                                   1\n",
       "HOMO SAPIENS; INFLUENZA A VIRUS (STRAIN A/HONG KONG/1/1968 H3N2)                                                 1\n",
       "HOMO SAPIENS; HOMO SAPIENS, MUS MUSCULUS                                                                         1\n",
       "HOMO SAPIENS; ORECTOLOBUS MACULATUS                                                                              1\n",
       "MUS MUSCULUS, HOMO SAPIENS; HOMO SAPIENS                                                                         1\n",
       "INFLUENZA A VIRUS (A/ANHUI/1/2005(H5N1)); HOMO SAPIENS                                                           1\n",
       "SEVERE ACUTE RESPIRATORY SYNDROME CORONAVIRUS 2; HUMAN IMMUNODEFICIENCY VIRUS 1; HOMO SAPIENS                    1\n",
       "INFLUENZA A VIRUS (A/CALIFORNIA/04/2009(H1N1)); HOMO SAPIENS                                                     1\n",
       "INFLUENZA A VIRUS (A/CALIFORNIA/7/2009(H1N1)); HOMO SAPIENS                                                      1\n",
       "INFLUENZA A VIRUS (A/REASSORTANT/NYMC X-181A(A/NYMC X-157 X CALIFORNIA/07/2009)(H1N1)); HOMO SAPIENS             1\n",
       "INFLUENZA A VIRUS (STRAIN SWL A/CALIFORNIA/04/2009 H1N1); HOMO SAPIENS                                           1\n",
       "Homo sapiens; Influenza A virus (A/Indiana/10/2011(H3N2))                                                        1\n",
       "INFLUENZA A VIRUS (A/ANHUI/1-BALF_RG44/2013(H7N9)); HOMO SAPIENS                                                 1\n",
       "INFLUENZA A VIRUS; INFLUENZA A VIRUS (STRAIN A/HONG KONG/1/1968 H3N2); HOMO SAPIENS                              1\n",
       "Homo sapiens; Severe acute respiratory syndrome coronavirus 2; Tequatrovirus T4                                  1\n",
       "Enterobacteria phage T6; Homo sapiens; Severe acute respiratory syndrome coronavirus 2; synthetic construct      1\n",
       "Homo sapiens; Severe acute respiratory syndrome coronavirus 2; SYNTHETIC CONSTRUCT                               1\n",
       "Homo sapiens; Influenza A virus (A/New Caledonia/20/1999(H1N1))                                                  1\n",
       "INFLUENZA A VIRUS (STRAIN A/BREVIG MISSION/1/1918 H1N1); HOMO SAPIENS                                            1\n",
       "Name: count, dtype: int64"
      ]
     },
     "execution_count": 30,
     "metadata": {},
     "output_type": "execute_result"
    }
   ],
   "source": [
    "df.organism.value_counts()"
   ]
  },
  {
   "cell_type": "code",
   "execution_count": null,
   "id": "8575daee",
   "metadata": {},
   "outputs": [],
   "source": []
  }
 ],
 "metadata": {
  "kernelspec": {
   "display_name": "env",
   "language": "python",
   "name": "python3"
  },
  "language_info": {
   "codemirror_mode": {
    "name": "ipython",
    "version": 3
   },
   "file_extension": ".py",
   "mimetype": "text/x-python",
   "name": "python",
   "nbconvert_exporter": "python",
   "pygments_lexer": "ipython3",
   "version": "3.9.12"
  }
 },
 "nbformat": 4,
 "nbformat_minor": 5
}
