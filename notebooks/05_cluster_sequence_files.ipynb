{
 "cells": [
  {
   "cell_type": "markdown",
   "id": "529110dc",
   "metadata": {},
   "source": [
    "## Clustering heavy and light chains\n",
    "\n",
    "### Installation of `cd-hit`\n",
    "\n",
    "Now that we have created fasta files with the sequences of the VH and VL regions, we can cluster them. SabDAb uses a programm called cd-hit for that purpose. So the first step is to install that software.\n",
    "\n",
    "The most convenient way to install bioinformatics software is using a package manager like conda. The bioconda project provides many sotware packages."
   ]
  },
  {
   "cell_type": "markdown",
   "id": "d6a22dbd",
   "metadata": {},
   "source": [
    "\n",
    "Conda allows to create isolated environments for specific purposes. Here we create a new environment `bioenv` to install bioinformatics software. We configure the new environment following https://bioconda.github.io/.  The `--env` option ensures that these configurations are only applied in the environment, not globally.\n",
    "\n",
    "Open a terminal and enter the following commands:\n",
    "\n",
    "```sh\n",
    "conda create -n bioenv \n",
    "conda activate bioenv\n",
    "\n",
    "conda config --env --add channels defaults\n",
    "conda config --env --add channels bioconda\n",
    "conda config --env --add channels conda-forge\n",
    "conda config --env --set channel_priority strict\n",
    "```\n",
    "\n",
    "Whenever we want to use software from the environment, we need to activate the environment\n",
    "```sh\n",
    "conda activate bioenv\n",
    "```\n",
    "\n",
    "To install `cd-hit`, execute\n",
    "```sh\n",
    "conda install -c bioconda cd-hit\n",
    "```\n",
    "\n",
    "See if the installation was successful by running\n",
    "\n",
    "```sh\n",
    "cd-hit --help\n",
    "```\n",
    "\n",
    "This will show you how to run the commmand and which options it has.\n",
    "\n",
    "Note: If you want to deactivate an environment, you can use\n",
    "\n",
    "```sh\n",
    "conda deactivate\n",
    "```\n",
    "\n",
    "But do not do this now, as we want to use `cd-hit`."
   ]
  },
  {
   "cell_type": "markdown",
   "id": "268a7952",
   "metadata": {},
   "source": [
    "### Running `cd-hit`\n",
    "\n",
    "In the terminal, change to the directory where you have stored the fasta files.\n",
    "\n",
    "You can find the directory where you have stored this notebook using"
   ]
  },
  {
   "cell_type": "code",
   "execution_count": 4,
   "id": "b1991740",
   "metadata": {},
   "outputs": [
    {
     "data": {
      "text/plain": [
       "'/Users/florian/projects/sabdb/notebooks'"
      ]
     },
     "execution_count": 4,
     "metadata": {},
     "output_type": "execute_result"
    }
   ],
   "source": [
    "import os\n",
    "\n",
    "os.getcwd()"
   ]
  },
  {
   "cell_type": "markdown",
   "id": "989058df",
   "metadata": {},
   "source": [
    "In that directory, run `cd-hit`:\n",
    "\n",
    "```sh\n",
    "cd-hit -i VH.fa -o VHcluster\n",
    "```\n",
    "\n",
    "This creates two files, `VHcluster` and `VHcluster.clstr`\n",
    "\n",
    "Do the same for `VL.fa`."
   ]
  },
  {
   "cell_type": "markdown",
   "id": "370ef3e0",
   "metadata": {},
   "source": [
    "Move the files to directory `generated/preprocess`. You need to create that directory first."
   ]
  }
 ],
 "metadata": {
  "kernelspec": {
   "display_name": "env",
   "language": "python",
   "name": "python3"
  },
  "language_info": {
   "codemirror_mode": {
    "name": "ipython",
    "version": 3
   },
   "file_extension": ".py",
   "mimetype": "text/x-python",
   "name": "python",
   "nbconvert_exporter": "python",
   "pygments_lexer": "ipython3",
   "version": "3.9.12"
  }
 },
 "nbformat": 4,
 "nbformat_minor": 5
}
